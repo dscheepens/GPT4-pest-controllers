{
 "cells": [
  {
   "cell_type": "code",
   "execution_count": 1,
   "metadata": {},
   "outputs": [],
   "source": [
    "%load_ext autoreload\n",
    "%autoreload 2\n",
    "\n",
    "import matplotlib.pyplot as plt\n",
    "import pandas as pd \n",
    "import math \n",
    "import numpy as np \n",
    "import matplotlib.pyplot as plt\n",
    "from sklearn.metrics import confusion_matrix, ConfusionMatrixDisplay, classification_report, multilabel_confusion_matrix\n",
    "import seaborn as sns\n",
    "import matplotlib.style\n",
    "import matplotlib as mpl\n",
    "mpl.style.use('default')"
   ]
  },
  {
   "cell_type": "markdown",
   "metadata": {
    "jp-MarkdownHeadingCollapsed": true
   },
   "source": [
    "# Functions"
   ]
  },
  {
   "cell_type": "code",
   "execution_count": 2,
   "metadata": {},
   "outputs": [],
   "source": [
    "def load_excel(data_set, sheet_name):\n",
    "    df = pd.read_excel(\"data-sets/%s.xlsx\"%data_set,\n",
    "                  true_values='Yes',\n",
    "                  false_values='No',\n",
    "                  sheet_name=sheet_name)\n",
    "    df = df.fillna('')  \n",
    "    df = df.replace('\\n','')\n",
    "    df = df.replace('-','')\n",
    "    #df['Species'] = df['Species'].replace('sp.','')\n",
    "    #df['Species'] = df['Species'].replace('spp.','')\n",
    "    return df\n",
    "\n",
    "def bar_orders(df):\n",
    "    counts = df['Order'].value_counts()\n",
    "    labels = list(counts.index[:5])\n",
    "    labels.append('Other')\n",
    "    counts = counts.reset_index(drop=True)\n",
    "    counts[5] = sum(counts[5:])\n",
    "    counts = counts.drop(range(6,len(counts)))\n",
    "    new_df = pd.DataFrame({'counts':np.array(counts)},index=labels)\n",
    "    return new_df.values.flatten(), new_df.index\n",
    "\n",
    "def bar_roles(df):\n",
    "    counts = df['Role'].value_counts()\n",
    "    labels = list(counts.index[:3])\n",
    "    labels.append('Other')\n",
    "    counts = counts.reset_index(drop=True)\n",
    "    counts[3] = sum(counts[3:])\n",
    "    counts = counts.drop(range(4,len(counts)))\n",
    "    new_df = pd.DataFrame({'counts':np.array(counts)},index=labels)\n",
    "    return new_df.values.flatten(), new_df.index\n",
    "\n",
    "def plot_barcharts(df, train_test='train'):\n",
    "    fig, axs = plt.subplots(1,2,figsize=(8, 3),constrained_layout=True)\n",
    "    x, y = bar_orders(df)\n",
    "    #axs[0].grid(axis='y')\n",
    "    axs[0].bar(y,x)\n",
    "    axs[0].set_title('Orders')\n",
    "    #fig.suptitle(['Validation', 'Test'][i],y=1.05)\n",
    "    axs[0].spines['top'].set_visible(False)\n",
    "    axs[0].spines['right'].set_visible(False)\n",
    "    axs[0].set_xticks(np.arange(len(y)))\n",
    "    axs[0].set_xticklabels(y, rotation=20, ha='right')\n",
    "    \n",
    "    x, y = bar_roles(df)\n",
    "    #axs[1].grid(axis='y')\n",
    "    axs[1].bar(y,x)\n",
    "    axs[1].set_title('Roles')\n",
    "    axs[1].spines['top'].set_visible(False)\n",
    "    axs[1].spines['right'].set_visible(False)\n",
    "    axs[1].set_xticks(np.arange(len(y)))\n",
    "    axs[1].set_xticklabels(y, rotation=20, ha='right')\n",
    "    \n",
    "    if train_test=='train':\n",
    "        #fig.suptitle('Validation Set',fontsize=14)\n",
    "        plt.savefig('figures/barcharts_train.png', dpi=500)\n",
    "    if train_test=='test':\n",
    "        #fig.suptitle('Test Set',fontsize=14)\n",
    "        plt.savefig('figures/barcharts_test.png', dpi=500)\n",
    "    plt.show()\n",
    "    return\n",
    "\n",
    "def match_substrings(substrings, main_strings):\n",
    "    if len(substrings) != len(main_strings):\n",
    "        raise ValueError(\"Both lists should be of the same length\")\n",
    "    result = []\n",
    "    for sub, main in zip(substrings, main_strings):\n",
    "        # Check for exact match first\n",
    "        if sub == main:\n",
    "            result.append(True)\n",
    "        else:\n",
    "            # Then check if substring is a word in main string\n",
    "            if sub == \"\":\n",
    "                result.append(main == \"\")\n",
    "            elif main == \"\":\n",
    "                result.append(False)\n",
    "            else:\n",
    "                result.append(sub in main.split())\n",
    "    return result\n",
    "\n",
    "def print_taxonomic_mistakes(df1_, df2_):\n",
    "    total = 0\n",
    "    print('Mismatches:\\n')\n",
    "    for T in ['Class','Order','Family','Genus','Species']:\n",
    "        not_in = np.array([not x for x in match_substrings(df1_[T], df2_[T])])\n",
    "        print(T+' |', not_in.sum())\n",
    "        total += not_in.sum()\n",
    "        print(\"{0:10} | {1:25} | {2:20} | {3:30} | {4:30}\".format(\"Index\",\"Manual label\",\"Prediction\",\"Species (manual)\",\"Species (prediction)\"))\n",
    "        print('-'*100)\n",
    "        for i in range(not_in.sum()):\n",
    "            T_true = np.array(df1_[T][not_in])[i]\n",
    "            T_pred = np.array(df2_[T][not_in])[i]\n",
    "            if T_pred == '':\n",
    "                T_pred = '      '\n",
    "            print(\"{0:10} | {1:25} | {2:20} | {3:30} | {4:30}\".format(np.array(df1_[T][not_in].index)[i],T_true, T_pred, \n",
    "                                                   ' '.join([np.array(df1_['Genus'][not_in])[i],\n",
    "                                                   np.array(df1_['Species'][not_in])[i]]),\n",
    "                                                   ' '.join([np.array(df2_['Genus'][not_in])[i],\n",
    "                                                   np.array(df2_['Species'][not_in])[i]])))\n",
    "        print('\\n')\n",
    "    print('Total mismatches:')\n",
    "    print(total)\n",
    "    print('\\nAccuracy:')\n",
    "    all = len(df1_)*5\n",
    "    print(all-total,'/',all,'=',np.round((all-total)/all,3))\n",
    "    return total\n",
    "\n",
    "def corrected_mistakes(TI):\n",
    "    a_sum = 0\n",
    "    b_sum = 0\n",
    "    c_sum = 0\n",
    "    d_sum = 0\n",
    "    e_sum = 0\n",
    "    f_sum = 0\n",
    "    g_sum = 0\n",
    "    h_sum = 0\n",
    "    print(\"{0:15} | {1:15} | {2:15} | {3:15} | {4:15} | {5:20} | {6:20}\".format('tot. mismatch', 'minor', 'major', 'minor mistake', 'mistake', 'mismatch GPT correct','mismatch ML wrong'))\n",
    "    for i,(a,b,c,d,e,f) in enumerate([\n",
    "                    [TI.m_c, TI.mmm_c, TI.mm_c, TI.mis_c, TI.mc_c, TI.mg_c],               # class\n",
    "                    [TI.m_o, TI.mmm_o, TI.mm_o, TI.mis_o, TI.mc_o, TI.mg_o],               # order \n",
    "                    [TI.m_f, TI.mmm_f, TI.mm_f, TI.mis_f, TI.mc_f, TI.mg_f],               # family \n",
    "                    [TI.m_g, TI.mmm_g, TI.mm_g, TI.mis_g, TI.mc_g, TI.mg_g],               # genus \n",
    "                    [TI.m_s, TI.mmm_s, TI.mm_s, TI.mis_s, TI.mc_s, TI.mg_s],               # species\n",
    "                   ]):\n",
    "        a_ = len(a) # total mismatches\n",
    "        b_ = len(b) # minor mismatches\n",
    "        c_ = len(a)-len(b) # major mismatches\n",
    "        d_ = len(c) # minor mistake\n",
    "        e_ = len(d) # actual mistakes\n",
    "        f_ = len(e) # mismatches where GPT-4 was actually correct\n",
    "        g_ = len(f) # mismatches where manual label was actually wrong\n",
    "        if i<3: \n",
    "            h_ = len(set(d).intersection(set([TI.i_c, TI.i_o, TI.i_f][i]))) # of actual mistakes, how many inferred?\n",
    "            h_sum += h_\n",
    "            \n",
    "        a_sum += a_\n",
    "        b_sum += b_\n",
    "        c_sum += c_\n",
    "        d_sum += d_\n",
    "        e_sum += e_\n",
    "        f_sum += f_ \n",
    "        g_sum += g_\n",
    "        print(\"{0:15} | {1:15} | {2:15} | {3:15} | {4:15} | {5:20} | {6:20}\".format(a_, b_, c_, d_, e_, f_, g_))\n",
    "    print('-'*130)\n",
    "    print(\"{0:15} | {1:15} | {2:15} | {3:15} | {4:15} | {5:20} | {6:20}\".format(a_sum,b_sum,c_sum,d_sum,e_sum,f_sum, g_sum))\n",
    "    return a_sum, b_sum, c_sum, d_sum, e_sum, f_sum, g_sum, h_sum\n",
    "\n",
    "def species_found(df1,df2):\n",
    "    u1 = np.unique(df1['EID'])\n",
    "    u2 = np.unique(df2['EID'])\n",
    "    print('         EID    \\t|     Species Found  \\t|')\n",
    "    print('-'*50)\n",
    "    u_list = []\n",
    "    for u in u1: \n",
    "        n1 = len(df1[df1['EID']==u].index)\n",
    "        n2 = len(df2[df2['EID']==u].index)\n",
    "        if n1!=n2: \n",
    "            print(u,'\\t| \\t', n2,'/',n1,'  \\t|  X')\n",
    "            u_list.append(u)\n",
    "        else:\n",
    "            print(u,'\\t| \\t', n2,'/',n1,'  \\t|')\n",
    "    print('\\nTotal:\\n')\n",
    "    print(len(df1)-len(df2[df2['EID']==''].index),'/',len(df1),'=',\n",
    "          np.round((len(df1)-len(df2[df2['EID']==''].index))/len(df1),3))\n",
    "    return\n",
    "\n",
    "def plot_confusion_matrix(a1,a2,labels,xlab='GPT-4 Prediction',ylab='Manual Label',figsize=(9,6),xrot=45,yrot=0,train_test='train',filename=''):\n",
    "    \n",
    "    cm = confusion_matrix(a1,a2, labels=labels)\n",
    "\n",
    "    # calculate row sums (for calculating % & plot annotations)\n",
    "    cm_sum = np.sum(cm, axis=1, keepdims=True)\n",
    "    # calculate proportions\n",
    "    cm_perc = cm / cm_sum.astype(float) * 100\n",
    "    cm_perc[np.isnan(cm_perc)] = 0.0\n",
    "    # empty array for holding annotations for each cell in the heatmap\n",
    "    annot = np.empty_like(cm).astype(str)\n",
    "    # get the dimensions\n",
    "    nrows, ncols = cm.shape\n",
    "    # cycle over cells and create annotations for each cell\n",
    "    for i in range(nrows):\n",
    "        for j in range(ncols):\n",
    "            # get the count for the cell\n",
    "            c = cm[i, j]\n",
    "            # get the percentage for the cell\n",
    "            p = cm_perc[i, j]\n",
    "            if np.isnan(p):\n",
    "                p = 0.\n",
    "            if i == j:\n",
    "                s = cm_sum[i]\n",
    "                # convert the proportion, count, and row sum to a string with pretty formatting\n",
    "                annot[i, j] = '%.1f%%\\n%d' % (p, c)\n",
    "            elif c == 0:\n",
    "                annot[i, j] = ''\n",
    "            else:\n",
    "                annot[i, j] = '%.1f%%\\n%d' % (p, c)\n",
    "                \n",
    "    # convert the array to a dataframe. To plot by proportion instead of number, use cm_perc in the DataFrame instead of cm\n",
    "    cm = pd.DataFrame(cm_perc, index=labels, columns=labels)\n",
    "    cm.index.name = 'True'\n",
    "    cm.columns.name = 'Pred'\n",
    "\n",
    "    fig, ax = plt.subplots(figsize=figsize)\n",
    "    sns.heatmap(cm, annot=annot, fmt='', ax=ax, cmap=plt.cm.Blues, linewidths=2., cbar=False, vmin=0, vmax=100)\n",
    "    ax.tick_params(left=False, bottom=False)\n",
    "    ax.set_yticklabels(ax.get_yticklabels(), rotation=0)\n",
    "    ax.set_xlabel(xlab, labelpad=10)\n",
    "    ax.set_ylabel(ylab, labelpad=10)\n",
    "    plt.xticks(rotation=xrot)\n",
    "    plt.yticks(rotation=yrot)\n",
    "    \n",
    "    # Add colorbar\n",
    "    cbar = ax.figure.colorbar(ax.collections[0], ax=ax, orientation='vertical', pad=0.015)\n",
    "    cbar.outline.set_visible(False)\n",
    "    cbar.set_label('Percentage correct', rotation=90, labelpad=10)\n",
    "    \n",
    "\n",
    "    plt.tight_layout()\n",
    "\n",
    "    if train_test=='train':\n",
    "        #plt.title(\"Validation Set\")\n",
    "        plt.savefig('figures/confusion_matrices/%s_train.png'%filename,dpi=500)\n",
    "    if train_test=='test':\n",
    "        #plt.title(\"Test Set\")\n",
    "        plt.savefig('figures/confusion_matrices/%s_test.png'%filename,dpi=500)\n",
    "    plt.show()\n",
    "    print('\\n')\n",
    "    report = classification_report(a1, a2,labels=labels, zero_division=0., digits=3)\n",
    "    print(report)\n",
    "    return\n",
    "\n",
    "def print_accuracy_and_mismatches(indices, df1, df2):\n",
    "    print('Accuracy and mismatches:')\n",
    "    for inf, lab in zip(indices,['Class','Order','Family']):\n",
    "        arr1 = df1.loc[inf][df2.loc[inf]['EID']!=''][lab]\n",
    "        arr2 = df2.loc[inf][df2.loc[inf]['EID']!=''][lab]\n",
    "        l = len(arr1) #(arr1!='Insecta').sum() # commented selection for insects only\n",
    "        a = (arr1==arr2).sum() #((arr1==arr2) & (arr1!='Insecta')).sum() # commented selection for insects only\n",
    "        print('\\n%s:'%lab,a,'/',l,'=',np.round(a/l,3))\n",
    "        indx = arr1[(arr1!=arr2)].index\n",
    "        print(\"Index\\t{:15s}\\t{:15s}\".format('Manual','Predicted'))\n",
    "        print(\"----------------------------------\")\n",
    "        for _, (i,j) in enumerate(zip(arr1.loc[indx], arr2.loc[indx])):\n",
    "            print(indx[_],\"\\t{:15s}\\t{:15s}\".format(i,j))\n",
    "    return \n",
    "    \n",
    "def scores_per_abstract(arr1, arr2, eids, header='', labels=[]): \n",
    "\n",
    "    for i, lab in enumerate(labels):\n",
    "        dic = {}\n",
    "        lengths = []\n",
    "        support = []\n",
    "        for eid in eids:\n",
    "            a1 = arr1[arr1['EID']==eid][header].astype(str)\n",
    "            a2 = arr2[arr2['EID']==eid][header].astype(str)\n",
    "            if (a1==lab).sum()>0: \n",
    "                support.append(eid)\n",
    "            report = classification_report(a1==lab, a2==lab, output_dict=True, zero_division=np.nan)\n",
    "            if 'True' in report.keys():\n",
    "                dic[eid] = report['True']  \n",
    "                lengths.append(len(a1))\n",
    "        \n",
    "        vals_precision = np.array([value['precision'] for value in dic.values() if not np.isnan(value['precision'])])\n",
    "        vals_recall = np.array([value['recall'] for value in dic.values() if not np.isnan(value['recall'])])\n",
    "        vals_f1 = np.array([value['f1-score'] for value in dic.values() if not np.isnan(value['f1-score'])])\n",
    "    \n",
    "        lengths = np.array(lengths)\n",
    "        \n",
    "        print('Label:', lab,'(num abstracts: %s)'%len(support))\n",
    "        print('precision:\\t{:.1f} +/- {:.1f}'.format(100*np.mean(vals_precision), 100*np.std(vals_precision)))\n",
    "        print('recall:\\t\\t{:.1f} +/- {:.1f}'.format(100*np.mean(vals_recall), 100*np.std(vals_recall)))\n",
    "        print('f1:\\t\\t{:.1f} +/- {:.1f}'.format(100*np.mean(vals_f1), 100*np.std(vals_f1)))\n",
    "        print('\\n')\n",
    "    return "
   ]
  },
  {
   "cell_type": "markdown",
   "metadata": {
    "jp-MarkdownHeadingCollapsed": true
   },
   "source": [
    "# Data"
   ]
  },
  {
   "cell_type": "markdown",
   "metadata": {},
   "source": [
    "## Loading training and test dataframes"
   ]
  },
  {
   "cell_type": "code",
   "execution_count": 3,
   "metadata": {},
   "outputs": [
    {
     "name": "stderr",
     "output_type": "stream",
     "text": [
      "/Users/daanscheepens/miniconda3/lib/python3.11/site-packages/openpyxl/worksheet/_reader.py:329: UserWarning: Conditional Formatting extension is not supported and will be removed\n",
      "  warn(msg)\n",
      "/Users/daanscheepens/miniconda3/lib/python3.11/site-packages/openpyxl/worksheet/_reader.py:329: UserWarning: Conditional Formatting extension is not supported and will be removed\n",
      "  warn(msg)\n"
     ]
    }
   ],
   "source": [
    "df1_train = load_excel('training_set', sheet_name=0)\n",
    "df2_train = load_excel('training_set', sheet_name=1)\n",
    "\n",
    "df1_test = load_excel('test_set', sheet_name=0)\n",
    "df2_test = load_excel('test_set', sheet_name=1)"
   ]
  },
  {
   "cell_type": "markdown",
   "metadata": {},
   "source": [
    "## Dataframes overview"
   ]
  },
  {
   "cell_type": "code",
   "execution_count": 4,
   "metadata": {},
   "outputs": [
    {
     "data": {
      "text/html": [
       "<div>\n",
       "<style scoped>\n",
       "    .dataframe tbody tr th:only-of-type {\n",
       "        vertical-align: middle;\n",
       "    }\n",
       "\n",
       "    .dataframe tbody tr th {\n",
       "        vertical-align: top;\n",
       "    }\n",
       "\n",
       "    .dataframe thead th {\n",
       "        text-align: right;\n",
       "    }\n",
       "</style>\n",
       "<table border=\"1\" class=\"dataframe\">\n",
       "  <thead>\n",
       "    <tr style=\"text-align: right;\">\n",
       "      <th></th>\n",
       "      <th>Class</th>\n",
       "      <th>Order</th>\n",
       "      <th>Family</th>\n",
       "      <th>Genus</th>\n",
       "      <th>Species</th>\n",
       "      <th>Role</th>\n",
       "      <th>Generalist/Specialist</th>\n",
       "      <th>Pest Controller</th>\n",
       "      <th>Pest Names</th>\n",
       "      <th>Pest Type</th>\n",
       "      <th>Associated With</th>\n",
       "      <th>Affects</th>\n",
       "      <th>Description</th>\n",
       "      <th>Location</th>\n",
       "      <th>Category</th>\n",
       "      <th>EID</th>\n",
       "      <th>Additional note</th>\n",
       "    </tr>\n",
       "  </thead>\n",
       "  <tbody>\n",
       "    <tr>\n",
       "      <th>0</th>\n",
       "      <td>Insecta</td>\n",
       "      <td>Hymenoptera</td>\n",
       "      <td>Agaonidae</td>\n",
       "      <td>Pleistodontes</td>\n",
       "      <td>imperialis</td>\n",
       "      <td>Pollinator</td>\n",
       "      <td></td>\n",
       "      <td></td>\n",
       "      <td></td>\n",
       "      <td></td>\n",
       "      <td></td>\n",
       "      <td></td>\n",
       "      <td>Pollinator. Pleistodontes imperialis, the wasp...</td>\n",
       "      <td>Northern New Zealand</td>\n",
       "      <td>3</td>\n",
       "      <td>2-s2.0-0000101789</td>\n",
       "      <td></td>\n",
       "    </tr>\n",
       "    <tr>\n",
       "      <th>1</th>\n",
       "      <td>Insecta</td>\n",
       "      <td>Hymenoptera</td>\n",
       "      <td>Agaonidae</td>\n",
       "      <td>Pleistodontes</td>\n",
       "      <td>froggatti</td>\n",
       "      <td>Pollinator</td>\n",
       "      <td></td>\n",
       "      <td></td>\n",
       "      <td></td>\n",
       "      <td></td>\n",
       "      <td></td>\n",
       "      <td></td>\n",
       "      <td>Polllinator wasp specific to F. macrophylla</td>\n",
       "      <td>Northern New Zealand</td>\n",
       "      <td>3</td>\n",
       "      <td>2-s2.0-0000101789</td>\n",
       "      <td></td>\n",
       "    </tr>\n",
       "    <tr>\n",
       "      <th>2</th>\n",
       "      <td>Insecta</td>\n",
       "      <td>Coleoptera</td>\n",
       "      <td>Carabidae</td>\n",
       "      <td>Abax</td>\n",
       "      <td>parallelepipedus</td>\n",
       "      <td>Predator</td>\n",
       "      <td></td>\n",
       "      <td>1.0</td>\n",
       "      <td>arionid slugs</td>\n",
       "      <td>Invertebrate</td>\n",
       "      <td>Agriculture</td>\n",
       "      <td></td>\n",
       "      <td>Predator feeding on arionid slugs in field crops</td>\n",
       "      <td></td>\n",
       "      <td>1a</td>\n",
       "      <td>2-s2.0-0000252648</td>\n",
       "      <td></td>\n",
       "    </tr>\n",
       "    <tr>\n",
       "      <th>3</th>\n",
       "      <td>Gastropoda</td>\n",
       "      <td>Stylommatophora</td>\n",
       "      <td>Arionidae</td>\n",
       "      <td>Arion</td>\n",
       "      <td>ater</td>\n",
       "      <td>Pest</td>\n",
       "      <td></td>\n",
       "      <td></td>\n",
       "      <td></td>\n",
       "      <td>Invertebrate</td>\n",
       "      <td>Agriculture</td>\n",
       "      <td></td>\n",
       "      <td>arionid slug, pest</td>\n",
       "      <td></td>\n",
       "      <td>3</td>\n",
       "      <td>2-s2.0-0000252648</td>\n",
       "      <td></td>\n",
       "    </tr>\n",
       "    <tr>\n",
       "      <th>4</th>\n",
       "      <td>Gastropoda</td>\n",
       "      <td>Stylommatophora</td>\n",
       "      <td>Arionidae</td>\n",
       "      <td>Arion</td>\n",
       "      <td>hortensis</td>\n",
       "      <td>Pest</td>\n",
       "      <td></td>\n",
       "      <td></td>\n",
       "      <td></td>\n",
       "      <td>Invertebrate</td>\n",
       "      <td>Agriculture</td>\n",
       "      <td></td>\n",
       "      <td>arionid slug, pest</td>\n",
       "      <td></td>\n",
       "      <td>3</td>\n",
       "      <td>2-s2.0-0000252648</td>\n",
       "      <td></td>\n",
       "    </tr>\n",
       "  </tbody>\n",
       "</table>\n",
       "</div>"
      ],
      "text/plain": [
       "        Class            Order     Family          Genus           Species  \\\n",
       "0     Insecta      Hymenoptera  Agaonidae  Pleistodontes        imperialis   \n",
       "1     Insecta      Hymenoptera  Agaonidae  Pleistodontes         froggatti   \n",
       "2     Insecta       Coleoptera  Carabidae           Abax  parallelepipedus   \n",
       "3  Gastropoda  Stylommatophora  Arionidae          Arion              ater   \n",
       "4  Gastropoda  Stylommatophora  Arionidae          Arion         hortensis   \n",
       "\n",
       "         Role Generalist/Specialist Pest Controller     Pest Names  \\\n",
       "0  Pollinator                                                        \n",
       "1  Pollinator                                                        \n",
       "2    Predator                                   1.0  arionid slugs   \n",
       "3        Pest                                                        \n",
       "4        Pest                                                        \n",
       "\n",
       "      Pest Type Associated With Affects  \\\n",
       "0                                         \n",
       "1                                         \n",
       "2  Invertebrate     Agriculture           \n",
       "3  Invertebrate     Agriculture           \n",
       "4  Invertebrate     Agriculture           \n",
       "\n",
       "                                         Description              Location  \\\n",
       "0  Pollinator. Pleistodontes imperialis, the wasp...  Northern New Zealand   \n",
       "1        Polllinator wasp specific to F. macrophylla  Northern New Zealand   \n",
       "2   Predator feeding on arionid slugs in field crops                         \n",
       "3                                 arionid slug, pest                         \n",
       "4                                 arionid slug, pest                         \n",
       "\n",
       "  Category                EID Additional note  \n",
       "0        3  2-s2.0-0000101789                  \n",
       "1        3  2-s2.0-0000101789                  \n",
       "2       1a  2-s2.0-0000252648                  \n",
       "3        3  2-s2.0-0000252648                  \n",
       "4        3  2-s2.0-0000252648                  "
      ]
     },
     "execution_count": 4,
     "metadata": {},
     "output_type": "execute_result"
    }
   ],
   "source": [
    "df1_train.head()"
   ]
  },
  {
   "cell_type": "code",
   "execution_count": 5,
   "metadata": {},
   "outputs": [
    {
     "name": "stdout",
     "output_type": "stream",
     "text": [
      "Training set:\n",
      "Total abstracts:  100\n",
      "Total species:    649\n",
      "\n",
      "Test set:\n",
      "Total abstracts:  100\n",
      "Total species:    245\n"
     ]
    }
   ],
   "source": [
    "print('Training set:')\n",
    "print('Total abstracts: ',len(np.unique(df1_train['EID'])))\n",
    "print('Total species:   ', len(df1_train))\n",
    "\n",
    "print('\\nTest set:')\n",
    "print('Total abstracts: ',len(np.unique(df1_test['EID'])))\n",
    "print('Total species:   ', len(df1_test))"
   ]
  },
  {
   "cell_type": "code",
   "execution_count": 6,
   "metadata": {},
   "outputs": [
    {
     "data": {
      "image/png": "[encoded data removed]",
      "text/plain": [
       "<Figure size 800x300 with 2 Axes>"
      ]
     },
     "metadata": {},
     "output_type": "display_data"
    }
   ],
   "source": [
    "plot_barcharts(df1_train, train_test='train')"
   ]
  },
  {
   "cell_type": "code",
   "execution_count": 7,
   "metadata": {},
   "outputs": [
    {
     "data": {
      "image/png": "[encoded data removed]",
      "text/plain": [
       "<Figure size 800x300 with 2 Axes>"
      ]
     },
     "metadata": {},
     "output_type": "display_data"
    }
   ],
   "source": [
    "plot_barcharts(df1_test, train_test='test')"
   ]
  },
  {
   "cell_type": "markdown",
   "metadata": {},
   "source": [
    "## Dataframes without the rows that GPT4 missed"
   ]
  },
  {
   "cell_type": "code",
   "execution_count": 8,
   "metadata": {},
   "outputs": [],
   "source": [
    "# drop missed entries, but retain original indices:\n",
    "\n",
    "df1_train_ = df1_train[df2_train['EID']!='']\n",
    "df2_train_ = df2_train[df2_train['EID']!='']\n",
    "\n",
    "df1_test_ = df1_test[df2_test['EID']!='']\n",
    "df2_test_ = df2_test[df2_test['EID']!='']"
   ]
  },
  {
   "cell_type": "code",
   "execution_count": 9,
   "metadata": {},
   "outputs": [
    {
     "name": "stdout",
     "output_type": "stream",
     "text": [
      "Training set:\n",
      "Missed species:\t 18 out of 649 = 2.8% (corresponding to 2 out of 100 abstracts)\n",
      "Accuracy:\t 97.2%\n",
      "\n",
      "\n",
      "         EID    \t|     Species Found  \t|\n",
      "--------------------------------------------------\n",
      "2-s2.0-0000101789 \t| \t 2 / 2   \t|\n",
      "2-s2.0-0000252648 \t| \t 5 / 5   \t|\n",
      "2-s2.0-0001688927 \t| \t 3 / 3   \t|\n",
      "2-s2.0-0005019556 \t| \t 2 / 2   \t|\n",
      "2-s2.0-0006182411 \t| \t 10 / 10   \t|\n",
      "2-s2.0-0008215387 \t| \t 10 / 10   \t|\n",
      "2-s2.0-0021593437 \t| \t 4 / 4   \t|\n",
      "2-s2.0-0024185618 \t| \t 3 / 3   \t|\n",
      "2-s2.0-0024939691 \t| \t 1 / 1   \t|\n",
      "2-s2.0-0027065837 \t| \t 5 / 5   \t|\n",
      "2-s2.0-0027708505 \t| \t 2 / 2   \t|\n",
      "2-s2.0-0027799605 \t| \t 2 / 2   \t|\n",
      "2-s2.0-0028166139 \t| \t 15 / 15   \t|\n",
      "2-s2.0-0028684035 \t| \t 1 / 1   \t|\n",
      "2-s2.0-0028993233 \t| \t 3 / 3   \t|\n",
      "2-s2.0-0028994795 \t| \t 5 / 5   \t|\n",
      "2-s2.0-0030618395 \t| \t 4 / 4   \t|\n",
      "2-s2.0-0030618427 \t| \t 3 / 3   \t|\n",
      "2-s2.0-0031400560 \t| \t 6 / 6   \t|\n",
      "2-s2.0-0031432732 \t| \t 3 / 3   \t|\n",
      "2-s2.0-0031458929 \t| \t 16 / 16   \t|\n",
      "2-s2.0-0032794850 \t| \t 8 / 8   \t|\n",
      "2-s2.0-0032970080 \t| \t 11 / 11   \t|\n",
      "2-s2.0-0033135852 \t| \t 7 / 7   \t|\n",
      "2-s2.0-0034872127 \t| \t 3 / 3   \t|\n",
      "2-s2.0-0034889793 \t| \t 17 / 17   \t|\n",
      "2-s2.0-0034969773 \t| \t 7 / 7   \t|\n",
      "2-s2.0-0036212873 \t| \t 8 / 8   \t|\n",
      "2-s2.0-0036226278 \t| \t 3 / 3   \t|\n",
      "2-s2.0-0037304026 \t| \t 4 / 4   \t|\n",
      "2-s2.0-0037647595 \t| \t 6 / 6   \t|\n",
      "2-s2.0-0037800443 \t| \t 9 / 9   \t|\n",
      "2-s2.0-0037985469 \t| \t 4 / 4   \t|\n",
      "2-s2.0-0040041164 \t| \t 8 / 8   \t|\n",
      "2-s2.0-0040077872 \t| \t 2 / 2   \t|\n",
      "2-s2.0-0043286364 \t| \t 1 / 1   \t|\n",
      "2-s2.0-0141575349 \t| \t 2 / 2   \t|\n",
      "2-s2.0-0342326462 \t| \t 6 / 6   \t|\n",
      "2-s2.0-0346935993 \t| \t 4 / 4   \t|\n",
      "2-s2.0-11244319902 \t| \t 3 / 3   \t|\n",
      "2-s2.0-12544251548 \t| \t 4 / 4   \t|\n",
      "2-s2.0-13844298328 \t| \t 4 / 4   \t|\n",
      "2-s2.0-1842582919 \t| \t 11 / 11   \t|\n",
      "2-s2.0-19944366420 \t| \t 18 / 20   \t|  X\n",
      "2-s2.0-20544474790 \t| \t 3 / 3   \t|\n",
      "2-s2.0-23744478307 \t| \t 7 / 7   \t|\n",
      "2-s2.0-26244452013 \t| \t 10 / 10   \t|\n",
      "2-s2.0-33845325813 \t| \t 4 / 4   \t|\n",
      "2-s2.0-33845901783 \t| \t 18 / 18   \t|\n",
      "2-s2.0-33846223214 \t| \t 2 / 2   \t|\n",
      "2-s2.0-38749145887 \t| \t 2 / 2   \t|\n",
      "2-s2.0-39149089336 \t| \t 6 / 6   \t|\n",
      "2-s2.0-41149109636 \t| \t 3 / 3   \t|\n",
      "2-s2.0-4243173915 \t| \t 4 / 4   \t|\n",
      "2-s2.0-42449107774 \t| \t 3 / 3   \t|\n",
      "2-s2.0-62149132967 \t| \t 5 / 5   \t|\n",
      "2-s2.0-62149141341 \t| \t 10 / 10   \t|\n",
      "2-s2.0-67650614649 \t| \t 2 / 2   \t|\n",
      "2-s2.0-70349578796 \t| \t 3 / 3   \t|\n",
      "2-s2.0-73449107754 \t| \t 1 / 1   \t|\n",
      "2-s2.0-74949088185 \t| \t 12 / 12   \t|\n",
      "2-s2.0-77952918346 \t| \t 3 / 3   \t|\n",
      "2-s2.0-77954115799 \t| \t 4 / 4   \t|\n",
      "2-s2.0-77957191872 \t| \t 22 / 22   \t|\n",
      "2-s2.0-77957969950 \t| \t 3 / 3   \t|\n",
      "2-s2.0-78249255202 \t| \t 17 / 17   \t|\n",
      "2-s2.0-79953163648 \t| \t 7 / 7   \t|\n",
      "2-s2.0-80052846716 \t| \t 4 / 4   \t|\n",
      "2-s2.0-80053068062 \t| \t 21 / 37   \t|  X\n",
      "2-s2.0-84862596084 \t| \t 6 / 6   \t|\n",
      "2-s2.0-84867182242 \t| \t 5 / 5   \t|\n",
      "2-s2.0-84874176682 \t| \t 9 / 9   \t|\n",
      "2-s2.0-84877157394 \t| \t 1 / 1   \t|\n",
      "2-s2.0-84881063573 \t| \t 21 / 21   \t|\n",
      "2-s2.0-84881616302 \t| \t 7 / 7   \t|\n",
      "2-s2.0-84884520363 \t| \t 14 / 14   \t|\n",
      "2-s2.0-84909652967 \t| \t 5 / 5   \t|\n",
      "2-s2.0-84912026588 \t| \t 2 / 2   \t|\n",
      "2-s2.0-84947703534 \t| \t 1 / 1   \t|\n",
      "2-s2.0-84949793786 \t| \t 2 / 2   \t|\n",
      "2-s2.0-84957565933 \t| \t 4 / 4   \t|\n",
      "2-s2.0-84961163844 \t| \t 8 / 8   \t|\n",
      "2-s2.0-84963612982 \t| \t 6 / 6   \t|\n",
      "2-s2.0-84963699376 \t| \t 3 / 3   \t|\n",
      "2-s2.0-84976038709 \t| \t 6 / 6   \t|\n",
      "2-s2.0-84978132483 \t| \t 3 / 3   \t|\n",
      "2-s2.0-84979976527 \t| \t 1 / 1   \t|\n",
      "2-s2.0-84983523235 \t| \t 5 / 5   \t|\n",
      "2-s2.0-84988695777 \t| \t 13 / 13   \t|\n",
      "2-s2.0-84992358973 \t| \t 16 / 16   \t|\n",
      "2-s2.0-85017461126 \t| \t 1 / 1   \t|\n",
      "2-s2.0-85019767155 \t| \t 13 / 13   \t|\n",
      "2-s2.0-85030858317 \t| \t 5 / 5   \t|\n",
      "2-s2.0-85043460278 \t| \t 7 / 7   \t|\n",
      "2-s2.0-85045837897 \t| \t 8 / 8   \t|\n",
      "2-s2.0-85052445922 \t| \t 5 / 5   \t|\n",
      "2-s2.0-85055082520 \t| \t 10 / 10   \t|\n",
      "2-s2.0-85063564845 \t| \t 6 / 6   \t|\n",
      "2-s2.0-85065706587 \t| \t 3 / 3   \t|\n",
      "2-s2.0-85066828990 \t| \t 4 / 4   \t|\n",
      "\n",
      "Total:\n",
      "\n",
      "631 / 649 = 0.972\n"
     ]
    }
   ],
   "source": [
    "missed_entries = sum(df2_train['EID']=='')\n",
    "l = len(df1_train)\n",
    "\n",
    "print('Training set:')\n",
    "print('Missed species:\\t',sum(df2_train['EID']==''),'out of',l,\n",
    "      '= {:.1f}%'.format(100*missed_entries/l),\n",
    "      '(corresponding to',len(np.unique(df1_train[df2_train['EID']=='']['EID'])),'out of 100 abstracts)')\n",
    "print('Accuracy:\\t {:.1f}%'.format(100*(l-missed_entries)/l))\n",
    "print('\\n')\n",
    "\n",
    "species_found(df1_train, df2_train)"
   ]
  },
  {
   "cell_type": "code",
   "execution_count": 10,
   "metadata": {},
   "outputs": [
    {
     "name": "stdout",
     "output_type": "stream",
     "text": [
      "Test set:\n",
      "Missed species:\t 1 out of 245 = 0.4% (corresponding to 1 out of 100 abstracts)\n",
      "Accuracy:\t 99.6%\n",
      "\n",
      "\n",
      "         EID    \t|     Species Found  \t|\n",
      "--------------------------------------------------\n",
      "2-s2.0-0001065549 \t| \t 5 / 5   \t|\n",
      "2-s2.0-0024189410 \t| \t 2 / 2   \t|\n",
      "2-s2.0-0024639644 \t| \t 3 / 3   \t|\n",
      "2-s2.0-0024878871 \t| \t 2 / 2   \t|\n",
      "2-s2.0-0026901758 \t| \t 6 / 6   \t|\n",
      "2-s2.0-0027132805 \t| \t 1 / 1   \t|\n",
      "2-s2.0-0028092372 \t| \t 2 / 2   \t|\n",
      "2-s2.0-0028560901 \t| \t 7 / 7   \t|\n",
      "2-s2.0-0028973895 \t| \t 3 / 3   \t|\n",
      "2-s2.0-0030114202 \t| \t 1 / 1   \t|\n",
      "2-s2.0-0030739264 \t| \t 2 / 2   \t|\n",
      "2-s2.0-0031105231 \t| \t 1 / 1   \t|\n",
      "2-s2.0-0031154434 \t| \t 3 / 3   \t|\n",
      "2-s2.0-0031912434 \t| \t 2 / 2   \t|\n",
      "2-s2.0-0031950831 \t| \t 2 / 2   \t|\n",
      "2-s2.0-0032122262 \t| \t 3 / 3   \t|\n",
      "2-s2.0-0032293772 \t| \t 2 / 2   \t|\n",
      "2-s2.0-0032865018 \t| \t 3 / 3   \t|\n",
      "2-s2.0-0033674416 \t| \t 1 / 1   \t|\n",
      "2-s2.0-0033922525 \t| \t 1 / 1   \t|\n",
      "2-s2.0-0034551082 \t| \t 4 / 4   \t|\n",
      "2-s2.0-0035466062 \t| \t 1 / 1   \t|\n",
      "2-s2.0-0035710146 \t| \t 1 / 1   \t|\n",
      "2-s2.0-0036066779 \t| \t 1 / 1   \t|\n",
      "2-s2.0-0036746980 \t| \t 6 / 6   \t|\n",
      "2-s2.0-0037221602 \t| \t 4 / 4   \t|\n",
      "2-s2.0-0037283426 \t| \t 2 / 2   \t|\n",
      "2-s2.0-0042590065 \t| \t 1 / 1   \t|\n",
      "2-s2.0-0242446679 \t| \t 1 / 1   \t|\n",
      "2-s2.0-12344264068 \t| \t 2 / 2   \t|\n",
      "2-s2.0-2342653599 \t| \t 3 / 3   \t|\n",
      "2-s2.0-3242677044 \t| \t 11 / 11   \t|\n",
      "2-s2.0-32544437705 \t| \t 8 / 8   \t|\n",
      "2-s2.0-33644504166 \t| \t 1 / 1   \t|\n",
      "2-s2.0-33746452708 \t| \t 3 / 3   \t|\n",
      "2-s2.0-33748338142 \t| \t 10 / 10   \t|\n",
      "2-s2.0-33846412291 \t| \t 1 / 1   \t|\n",
      "2-s2.0-34548472465 \t| \t 1 / 1   \t|\n",
      "2-s2.0-35649026358 \t| \t 1 / 1   \t|\n",
      "2-s2.0-42449124573 \t| \t 1 / 1   \t|\n",
      "2-s2.0-43649104584 \t| \t 1 / 1   \t|\n",
      "2-s2.0-58949090459 \t| \t 0 / 1   \t|  X\n",
      "2-s2.0-65649092177 \t| \t 6 / 6   \t|\n",
      "2-s2.0-69249217686 \t| \t 2 / 2   \t|\n",
      "2-s2.0-7544251732 \t| \t 1 / 1   \t|\n",
      "2-s2.0-75649130826 \t| \t 2 / 2   \t|\n",
      "2-s2.0-77949389055 \t| \t 1 / 1   \t|\n",
      "2-s2.0-77949874214 \t| \t 1 / 1   \t|\n",
      "2-s2.0-77952220248 \t| \t 4 / 4   \t|\n",
      "2-s2.0-77955847988 \t| \t 2 / 2   \t|\n",
      "2-s2.0-77956400174 \t| \t 1 / 1   \t|\n",
      "2-s2.0-79958759901 \t| \t 3 / 3   \t|\n",
      "2-s2.0-79960358366 \t| \t 3 / 3   \t|\n",
      "2-s2.0-79960479277 \t| \t 4 / 4   \t|\n",
      "2-s2.0-79960905500 \t| \t 2 / 2   \t|\n",
      "2-s2.0-80051921853 \t| \t 6 / 6   \t|\n",
      "2-s2.0-80055023371 \t| \t 1 / 1   \t|\n",
      "2-s2.0-81855166830 \t| \t 1 / 1   \t|\n",
      "2-s2.0-84857317215 \t| \t 1 / 1   \t|\n",
      "2-s2.0-84861521549 \t| \t 1 / 1   \t|\n",
      "2-s2.0-84861558139 \t| \t 1 / 1   \t|\n",
      "2-s2.0-84867527578 \t| \t 1 / 1   \t|\n",
      "2-s2.0-84876243159 \t| \t 2 / 2   \t|\n",
      "2-s2.0-84880132577 \t| \t 2 / 2   \t|\n",
      "2-s2.0-84882690183 \t| \t 1 / 1   \t|\n",
      "2-s2.0-84884474270 \t| \t 1 / 1   \t|\n",
      "2-s2.0-84898403634 \t| \t 2 / 2   \t|\n",
      "2-s2.0-84903372397 \t| \t 1 / 1   \t|\n",
      "2-s2.0-84903955217 \t| \t 1 / 1   \t|\n",
      "2-s2.0-84905709437 \t| \t 2 / 2   \t|\n",
      "2-s2.0-84921631255 \t| \t 6 / 6   \t|\n",
      "2-s2.0-84922267267 \t| \t 6 / 6   \t|\n",
      "2-s2.0-84926011259 \t| \t 1 / 1   \t|\n",
      "2-s2.0-84927945519 \t| \t 9 / 9   \t|\n",
      "2-s2.0-84937421125 \t| \t 2 / 2   \t|\n",
      "2-s2.0-84939417542 \t| \t 1 / 1   \t|\n",
      "2-s2.0-84943809154 \t| \t 1 / 1   \t|\n",
      "2-s2.0-84946493859 \t| \t 2 / 2   \t|\n",
      "2-s2.0-84947029119 \t| \t 3 / 3   \t|\n",
      "2-s2.0-84947825143 \t| \t 2 / 2   \t|\n",
      "2-s2.0-84951741592 \t| \t 1 / 1   \t|\n",
      "2-s2.0-84960454650 \t| \t 2 / 2   \t|\n",
      "2-s2.0-84982166144 \t| \t 1 / 1   \t|\n",
      "2-s2.0-84984103884 \t| \t 1 / 1   \t|\n",
      "2-s2.0-84991759317 \t| \t 3 / 3   \t|\n",
      "2-s2.0-84994091578 \t| \t 1 / 1   \t|\n",
      "2-s2.0-85018521780 \t| \t 2 / 2   \t|\n",
      "2-s2.0-85019689109 \t| \t 2 / 2   \t|\n",
      "2-s2.0-85020227399 \t| \t 2 / 2   \t|\n",
      "2-s2.0-85021127030 \t| \t 1 / 1   \t|\n",
      "2-s2.0-85026475118 \t| \t 1 / 1   \t|\n",
      "2-s2.0-85028697981 \t| \t 1 / 1   \t|\n",
      "2-s2.0-85044712561 \t| \t 4 / 4   \t|\n",
      "2-s2.0-85059149116 \t| \t 4 / 4   \t|\n",
      "2-s2.0-85064844037 \t| \t 1 / 1   \t|\n",
      "2-s2.0-85067075926 \t| \t 1 / 1   \t|\n",
      "2-s2.0-85067586907 \t| \t 2 / 2   \t|\n",
      "2-s2.0-85071695750 \t| \t 1 / 1   \t|\n",
      "2-s2.0-85072280024 \t| \t 3 / 3   \t|\n",
      "2-s2.0-85073526582 \t| \t 5 / 5   \t|\n",
      "\n",
      "Total:\n",
      "\n",
      "244 / 245 = 0.996\n"
     ]
    }
   ],
   "source": [
    "missed_entries = sum(df2_test['EID']=='')\n",
    "l = len(df1_test)\n",
    "\n",
    "print('Test set:')\n",
    "print('Missed species:\\t',sum(df2_test['EID']==''),'out of',l,\n",
    "      '= {:.1f}%'.format(100*missed_entries/l),\n",
    "      '(corresponding to',len(np.unique(df1_test[df2_test['EID']=='']['EID'])),'out of 100 abstracts)')\n",
    "print('Accuracy:\\t {:.1f}%'.format(100*(l-missed_entries)/l))\n",
    "print('\\n')\n",
    "\n",
    "species_found(df1_test, df2_test)"
   ]
  },
  {
   "cell_type": "markdown",
   "metadata": {
    "jp-MarkdownHeadingCollapsed": true
   },
   "source": [
    "## Recall, precision and f1 of species extraction"
   ]
  },
  {
   "cell_type": "markdown",
   "metadata": {},
   "source": [
    "### Over all species: "
   ]
  },
  {
   "cell_type": "code",
   "execution_count": 11,
   "metadata": {},
   "outputs": [
    {
     "name": "stdout",
     "output_type": "stream",
     "text": [
      "Training set:\n",
      "recall:  \t 97.2\n",
      "precision:  \t 93.6\n",
      "f1:\t\t 95.3\n",
      "\n",
      "Test set:\n",
      "recall:  \t 99.6\n",
      "precision:  \t100.0\n",
      "f1:\t\t 99.8\n"
     ]
    }
   ],
   "source": [
    "# recall, precision (i.e., including hallucinations) and f1 of species extraction \n",
    "\n",
    "FP = 37 + 6  # (corresponding to 2 abstracts) \n",
    "TP = 624\n",
    "FN = 18      # (corresponding to 2 abstracts) \n",
    "TN = 0 \n",
    "\n",
    "rec = TP/(TP+FN)\n",
    "pre = TP/(TP+FP)\n",
    "f1 = 2*(pre*rec)/(pre+rec)\n",
    "\n",
    "print(\"Training set:\\nrecall:  \\t{:5.1f}\\nprecision:  \\t{:5.1f}\\nf1:\\t\\t{:5.1f}\".format(rec*100, pre*100, f1*100))\n",
    "\n",
    "FP = 0 \n",
    "TP = 244\n",
    "FN = 1      # (corresponding to 1 abstract) \n",
    "TN = 0 \n",
    "\n",
    "rec = TP/(TP+FN)\n",
    "pre = TP/(TP+FP)\n",
    "f1 = 2*(pre*rec)/(pre+rec)\n",
    "\n",
    "print(\"\\nTest set:\\nrecall:  \\t{:5.1f}\\nprecision:  \\t{:5.1f}\\nf1:\\t\\t{:5.1f}\".format(rec*100, pre*100, f1*100))"
   ]
  },
  {
   "cell_type": "markdown",
   "metadata": {},
   "source": [
    "### Per abstract: "
   ]
  },
  {
   "cell_type": "code",
   "execution_count": 12,
   "metadata": {},
   "outputs": [
    {
     "name": "stdout",
     "output_type": "stream",
     "text": [
      "Training set:\n",
      "recall:  \t 99.5+/-  4.4\n",
      "precision:  \t 99.1+/-  6.8\n",
      "f1:\t\t 99.3+/-  4.1\n",
      "\n",
      "Test set:\n",
      "recall:  \t 99.0+/-  9.9\n",
      "precision:  \t100.0+/-    0\n",
      "f1:\t\t 99.5+/-  5.0\n"
     ]
    }
   ],
   "source": [
    "import uncertainties \n",
    "\n",
    "# recall per abstract \n",
    "rpa_train = list(np.ones(98)) + [18/(18+2)] + [21/(21+16)]\n",
    "rpa_test = list(np.ones(99)) + [0/(0+1)]\n",
    "\n",
    "# precision per abstract \n",
    "ppa_train = list(np.ones(98)) + [18/(18+6)] + [21/(21+37)]\n",
    "ppa_test = list(np.ones(100))\n",
    "\n",
    "# convert into 'uncertainties' type: \n",
    "rpa_train = uncertainties.ufloat(np.mean(rpa_train), np.std(rpa_train))\n",
    "ppa_train = uncertainties.ufloat(np.mean(ppa_train), np.std(ppa_train))\n",
    "\n",
    "rpa_test = uncertainties.ufloat(np.mean(rpa_test), np.std(rpa_test))\n",
    "ppa_test = uncertainties.ufloat(np.mean(ppa_test), np.std(ppa_test))\n",
    "\n",
    "fpa_train = 2*rpa_train*ppa_train/(rpa_train+ppa_train)\n",
    "fpa_test = 2*rpa_test*ppa_test/(rpa_test+ppa_test)\n",
    "\n",
    "print(\"Training set:\\nrecall:  \\t{:5.1f}\\nprecision:  \\t{:5.1f}\\nf1:\\t\\t{:5.1f}\".format(rpa_train*100, ppa_train*100, fpa_train*100))\n",
    "print(\"\\nTest set:\\nrecall:  \\t{:5.1f}\\nprecision:  \\t{:5.1f}\\nf1:\\t\\t{:5.1f}\".format(rpa_test*100, ppa_test*100, fpa_test*100))"
   ]
  },
  {
   "cell_type": "markdown",
   "metadata": {
    "jp-MarkdownHeadingCollapsed": true
   },
   "source": [
    "# Taxonomy"
   ]
  },
  {
   "cell_type": "markdown",
   "metadata": {},
   "source": [
    "## Training set"
   ]
  },
  {
   "cell_type": "markdown",
   "metadata": {},
   "source": [
    "### 1. Inferred (Higher Level Taxonomy Prediction):"
   ]
  },
  {
   "cell_type": "code",
   "execution_count": 13,
   "metadata": {},
   "outputs": [
    {
     "data": {
      "text/plain": [
       "(487, 266, 184)"
      ]
     },
     "execution_count": 13,
     "metadata": {},
     "output_type": "execute_result"
    }
   ],
   "source": [
    "# indices of inferred class terms: \n",
    "inferred_c = np.array(list(np.arange(2,12))+list(np.arange(14,91))+list(np.arange(107,133))+list(np.arange(136,167))+list(np.arange(176,180))+list(np.arange(188,249))+[253,254,257,258,259,260,261]+list(np.arange(265,299))+list(np.arange(312,336))+list(np.arange(337,363))+list(np.arange(365,379))+list(np.arange(384,399))+list(np.arange(400,409))+list(np.arange(412,429))+list(np.arange(430,492))+list(np.arange(493,510))+[512,513,517]+list(np.arange(521,536))+[595]+list(np.arange(602,622))+list(np.arange(625,631))+list(np.arange(643,651)))-2\n",
    "# indices of inferred order terms: \n",
    "inferred_o = np.array(list(np.arange(4,14))+list(np.arange(33,39))+[40,44,48,49,50,66,69,76,79,80,81,90]+list(np.arange(122,133))+list(np.arange(160,174))+list(np.arange(178,187))+list(np.arange(191,197))+list(np.arange(209,226))+[229]+list(np.arange(231,239))+[250]+list(np.arange(255,262))+list(np.arange(269,274))+list(np.arange(276,288))+list(np.arange(291,299))+[311]+list(np.arange(322,327))+[363,364]+list(np.arange(392,400))+list(np.arange(403,416))+list(np.arange(430,439))+[458,459,460]+list(np.arange(492,510))+[517]+list(np.arange(528,557))+list(np.arange(558,595))+list(np.arange(602,615)))-2\n",
    "# indices of inferred family terms: \n",
    "inferred_f = np.array([5,6,7,8]+[33,34,35,36,37,39,40,44,48]+list(np.arange(57,66))+[69,81,90]+list(np.arange(122,133))+[160,161,162]+list(np.arange(165,172))+[174,175,178,179,180,181,182,184,185,186,191,192,193,209,210,211,212]+list(np.arange(214,226))+[229,231,234,236,237,238,241,242,243,244,245,250,256,258,259,270,271,272,273,296,297,298,311,326,363,364,392,393,399,406,407,408]+list(np.arange(417,429))+list(np.arange(493,505))+[507,508,509,517]+list(np.arange(528,557))+[596]+list(np.arange(602,611))+[613,614]+list(np.arange(643,651)))-2\n",
    "\n",
    "len(inferred_c), len(inferred_o), len(inferred_f)"
   ]
  },
  {
   "cell_type": "code",
   "execution_count": 15,
   "metadata": {},
   "outputs": [
    {
     "name": "stdout",
     "output_type": "stream",
     "text": [
      "Overall:\n",
      "\n",
      "PC_exact: 97.6\n",
      "PC_approx: 98.36\n"
     ]
    }
   ],
   "source": [
    "n = 0\n",
    "n += len(df1_train.loc[inferred_c][df2_train.loc[inferred_c]['EID']!='']['Class']) # number of non-inferred class predictions (485)\n",
    "n += len(df1_train.loc[inferred_o][df2_train.loc[inferred_o]['EID']!='']['Order']) # number of non-inferred order predictions (248)\n",
    "n += len(df1_train.loc[inferred_f][df2_train.loc[inferred_f]['EID']!='']['Family']) # number of non-inferred family predictions (182)\n",
    "\n",
    "# overall mistakes, as determined from taxonomic_mismatches_training.xlsx:\n",
    "\n",
    "# exact (counting both minor and major mistakes as mistakes): \n",
    "mistakes = 22\n",
    "PC_exact = (n-mistakes)/n\n",
    "\n",
    "# approximate (only counting major mistakes as mistakes): \n",
    "mistakes = 15\n",
    "PC_approx = (n-mistakes)/n\n",
    "\n",
    "print('Overall:\\n')\n",
    "print('PC_exact:',100*round(PC_exact,4))\n",
    "print('PC_approx:',100*round(PC_approx,4))"
   ]
  },
  {
   "cell_type": "code",
   "execution_count": 232,
   "metadata": {},
   "outputs": [
    {
     "name": "stdout",
     "output_type": "stream",
     "text": [
      "Accuracy and mismatches:\n",
      "\n",
      "Class: 484 / 485 = 0.998\n",
      "Index\tManual         \tPredicted      \n",
      "----------------------------------\n",
      "2 \tInsecta        \tColeoptera     \n",
      "\n",
      "Order: 245 / 248 = 0.988\n",
      "Index\tManual         \tPredicted      \n",
      "----------------------------------\n",
      "2 \tColeoptera     \tCarabidae      \n",
      "294 \tHymenoptera    \tColeoptera     \n",
      "515 \tHygrophila     \tPulmonata      \n",
      "\n",
      "Family: 164 / 182 = 0.901\n",
      "Index\tManual         \tPredicted      \n",
      "----------------------------------\n",
      "158 \tUrodontinae    \tAnthribidae    \n",
      "159 \tUrodontinae    \tAnthribidae    \n",
      "169 \tMeenoplidae    \tCicadellidae   \n",
      "173 \tCrambidae      \tPyralidae      \n",
      "183 \tFormicidae     \tMyrmicinae     \n",
      "218 \tIchneumonidae  \tChalcidoidea   \n",
      "222 \tChalcididae    \tPteromalidae   \n",
      "223 \tIchneumonidae  \tChalcididae    \n",
      "294 \tBraconidae     \tCleridae       \n",
      "296 \tBraconidae     \tAphidiinae     \n",
      "415 \tEulophidae     \tPteromalidae   \n",
      "417 \tFigitidae      \tCynipidae      \n",
      "527 \tDelphacidae    \tCicadellidae   \n",
      "552 \tCicadellidae   \tDelphacidae    \n",
      "606 \tBraconidae     \tAphidiidae     \n",
      "611 \tStaphylinidae  \tAnobiidae      \n",
      "646 \tLinyphiidae    \tMimetidae      \n",
      "647 \tScytodidae     \tMiturgidae     \n"
     ]
    }
   ],
   "source": [
    "print_accuracy_and_mismatches([inferred_c, inferred_o, inferred_f], df1_train, df2_train)"
   ]
  },
  {
   "cell_type": "code",
   "execution_count": 234,
   "metadata": {},
   "outputs": [
    {
     "name": "stdout",
     "output_type": "stream",
     "text": [
      "Accuracy per abstract (Order): 99.4 +\\- 4.1\n"
     ]
    }
   ],
   "source": [
    "# the two major mistakes in Order:\n",
    "\n",
    "eids = df1_train_.loc[[294,515]]['EID']\n",
    "\n",
    "# print(len(df1_train_[df1_train_['EID']=='2-s2.0-77957969950']))  # 1/3 are major mistakes\n",
    "# print(len(df1_train_[df1_train_['EID']=='2-s2.0-4243173915'])) # 1/4 are major mistakes\n",
    "\n",
    "# accuracies per abstract: \n",
    "arr = list(np.ones(98))+[2/3]+[3/4]\n",
    "print('Accuracy per abstract (Order): {:.1f} +\\- {:.1f}'.format(np.mean(arr)*100,np.std(arr)*100))"
   ]
  },
  {
   "cell_type": "code",
   "execution_count": 230,
   "metadata": {},
   "outputs": [
    {
     "name": "stdout",
     "output_type": "stream",
     "text": [
      "Accuracy per abstract (Family): 98.6 +\\- 5.2\n"
     ]
    }
   ],
   "source": [
    "# the thirteen major mistakes in Family:\n",
    "\n",
    "eids = df1_train_.loc[[169,173,218,222,223,294,415,417,527,552,611,646,647]]['EID']\n",
    "\n",
    "# arise from eigth abstracts: \n",
    "# print(len(df1_train_[df1_train_['EID']=='2-s2.0-0037800443']))  # 2/9 are major mistakes\n",
    "# print(len(df1_train_[df1_train_['EID']=='2-s2.0-19944366420'])) # 3/18 are major mistakes\n",
    "# print(len(df1_train_[df1_train_['EID']=='2-s2.0-77957969950'])) # 1/3 are major mistakes\n",
    "# print(len(df1_train_[df1_train_['EID']=='2-s2.0-85019767155'])) # 2/13 are major mistakes \n",
    "# print(len(df1_train_[df1_train_['EID']=='2-s2.0-62149141341'])) # 1/10 are major mistakes\n",
    "# print(len(df1_train_[df1_train_['EID']=='2-s2.0-33845901783'])) # 1/18 are major mistakes\n",
    "# print(len(df1_train_[df1_train_['EID']=='2-s2.0-84988695777'])) # 1/13 are major mistakes \n",
    "# print(len(df1_train_[df1_train_['EID']=='2-s2.0-85045837897'])) # 2/8 are major mistakes\n",
    "\n",
    "# accuracies per abtract: \n",
    "arr = list(np.ones(92))+[7/9,15/18,2/3,11/13,9/10,17/18,12/13,6/8]\n",
    "print('Accuracy per abstract (Family): {:.1f} +\\- {:.1f}'.format(np.mean(arr)*100,np.std(arr)*100))"
   ]
  },
  {
   "cell_type": "code",
   "execution_count": 16,
   "metadata": {},
   "outputs": [
    {
     "name": "stdout",
     "output_type": "stream",
     "text": [
      "Accuracy per abstract (Overall): 98.1 +\\- 8.0\n"
     ]
    }
   ],
   "source": [
    "arr = list(np.ones(92))+[3/4,7/9,15/18,2/6,11/13,9/10,17/18,12/13,6/8]\n",
    "print('Accuracy per abstract (Overall): {:.1f} +\\- {:.1f}'.format(np.mean(arr)*100,np.std(arr)*100))"
   ]
  },
  {
   "cell_type": "markdown",
   "metadata": {},
   "source": [
    "#### Calculating the number of taxonomic terms in family rank, for the abstracts which contained major mistakes"
   ]
  },
  {
   "cell_type": "code",
   "execution_count": 182,
   "metadata": {},
   "outputs": [
    {
     "name": "stdout",
     "output_type": "stream",
     "text": [
      "Number of abstracts: 8\n"
     ]
    }
   ],
   "source": [
    "l = 0\n",
    "eids=[]\n",
    "for i in [294,169,173,218,222,223,294,415,417,527,552,611,646,647]: # indices of rows which contained a major mistake in the family rank\n",
    "    eid=df1_train_.loc[i]['EID']\n",
    "    if not eid in eids:\n",
    "        eids.append(eid)\n",
    "\n",
    "print('Number of abstracts:',len(eids))"
   ]
  },
  {
   "cell_type": "code",
   "execution_count": 186,
   "metadata": {},
   "outputs": [
    {
     "name": "stdout",
     "output_type": "stream",
     "text": [
      "Inferred taxonomic terms in the family rank from selected abstracts: 81 out of 182 = 44.5%\n"
     ]
    }
   ],
   "source": [
    "s = 0\n",
    "for inf, lab in zip([inferred_f],['Family']):\n",
    "    arr1 = df1_train.loc[inf][df2_train.loc[inf]['EID']!=''][[lab,'EID']] # just the inferred family terms and eids\n",
    "    for eid in eids:\n",
    "        s += len(arr1[arr1['EID']==eid]) \n",
    "\n",
    "print('Inferred taxonomic terms in the family rank from selected abstracts:',s,'out of 182 = {:.1f}%'.format(100*s/182)) "
   ]
  },
  {
   "cell_type": "markdown",
   "metadata": {},
   "source": [
    "### 2. Non-inferred (Taxonomic Named Entity Recognition):"
   ]
  },
  {
   "cell_type": "code",
   "execution_count": 18,
   "metadata": {},
   "outputs": [
    {
     "data": {
      "text/plain": [
       "(162, 383, 465)"
      ]
     },
     "execution_count": 18,
     "metadata": {},
     "output_type": "execute_result"
    }
   ],
   "source": [
    "# indices of non-inferred class terms: \n",
    "noninf_c = list(set(np.arange(0,649))-set(inferred_c))\n",
    "# indices of non-inferred order terms: \n",
    "noninf_o = list(set(np.arange(0,649))-set(inferred_o))\n",
    "# indices of non-inferred family terms: \n",
    "noninf_f = list(set(np.arange(0,649))-set(inferred_f))\n",
    "\n",
    "len(noninf_c), len(noninf_o), len(noninf_f)"
   ]
  },
  {
   "cell_type": "code",
   "execution_count": 19,
   "metadata": {},
   "outputs": [
    {
     "name": "stdout",
     "output_type": "stream",
     "text": [
      "Overall:\n",
      "\n",
      "PC_exact: 98.04\n",
      "PC_approx: 99.96000000000001\n"
     ]
    }
   ],
   "source": [
    "n = 0\n",
    "n += len(df1_train.loc[noninf_c][df2_train.loc[noninf_c]['EID']!='']['Class']) # number of non-inferred class predictions (146)\n",
    "n += len(df1_train.loc[noninf_o][df2_train.loc[noninf_o]['EID']!='']['Order']) # number of non-inferred order predictions (383)\n",
    "n += len(df1_train.loc[noninf_f][df2_train.loc[noninf_f]['EID']!='']['Family']) # number of non-inferred family predictions (449)\n",
    "n += len(df1_train.loc[list(np.arange(0,649))][df2_train.loc[list(np.arange(0,649))]['EID']!='']['Genus']) # number of non-inferred genus predictions (631)\n",
    "n += len(df1_train.loc[list(np.arange(0,649))][df2_train.loc[list(np.arange(0,649))]['EID']!='']['Species']) # number of non-inferred species predictions (631)\n",
    "\n",
    "# overall mistakes, as determined from taxonomic_mismatches_training.xlsx:\n",
    "\n",
    "# exact (counting both minor and major mistakes as mistakes): \n",
    "mistakes = 44\n",
    "PC_exact = (n-mistakes)/n\n",
    "\n",
    "# approximate (only counting major mistakes as mistakes): \n",
    "mistakes = 1\n",
    "PC_approx = (n-mistakes)/n\n",
    "\n",
    "print('Overall:\\n')\n",
    "print('PC_exact:',100*round(PC_exact,4))\n",
    "print('PC_approx:',100*round(PC_approx,4))"
   ]
  },
  {
   "cell_type": "code",
   "execution_count": 17,
   "metadata": {},
   "outputs": [
    {
     "name": "stdout",
     "output_type": "stream",
     "text": [
      "Accuracy and mismatches:\n",
      "\n",
      "Class: 143 / 146 = 0.979\n",
      "Index\tManual         \tPredicted      \n",
      "----------------------------------\n",
      "516 \tInsecta        \tInsect         \n",
      "517 \tInsecta        \tInsect         \n",
      "518 \tInsecta        \tInsect         \n",
      "\n",
      "Order: 377 / 383 = 0.984\n",
      "Index\tManual         \tPredicted      \n",
      "----------------------------------\n",
      "623 \tHeteroptera    \tHemiptera      \n",
      "624 \tHeteroptera    \tHemiptera      \n",
      "625 \tHeteroptera    \tHemiptera      \n",
      "626 \tHeteroptera    \tHemiptera      \n",
      "627 \tHeteroptera    \tHemiptera      \n",
      "628 \tHeteroptera    \tHemiptera      \n",
      "\n",
      "Family: 443 / 449 = 0.987\n",
      "Index\tManual         \tPredicted      \n",
      "----------------------------------\n",
      "52 \tDoryctinae     \tBraconidae     \n",
      "53 \tDoryctinae     \tBraconidae     \n",
      "54 \tBraconinae     \tBraconidae     \n",
      "523 \tPsylloidea     \tPsyllidae      \n",
      "638 \tAnthomylidae   \tAnthomyiidae   \n",
      "639 \tFulgoroidae    \tFulgoridae     \n"
     ]
    }
   ],
   "source": [
    "print_accuracy_and_mismatches([noninf_c, noninf_o, noninf_f, noninf_g, noninf_s], df1_train, df2_train)"
   ]
  },
  {
   "cell_type": "code",
   "execution_count": 217,
   "metadata": {},
   "outputs": [
    {
     "name": "stdout",
     "output_type": "stream",
     "text": [
      "Accuracy per abstract (Species): 99.9 +\\- 1.2\n"
     ]
    }
   ],
   "source": [
    "# the one major mistake in the Species rank: \n",
    "# print(len(df1_train_[df1_train_['EID']=='2-s2.0-0036212873'])) # 1/8 are major mistakes \n",
    "\n",
    "arr = list(np.ones(99))+[7/8]\n",
    "print('Accuracy per abstract (Species): {:.1f} +\\- {:.1f}'.format(np.mean(arr)*100,np.std(arr)*100))"
   ]
  },
  {
   "cell_type": "code",
   "execution_count": 28,
   "metadata": {},
   "outputs": [
    {
     "name": "stdout",
     "output_type": "stream",
     "text": [
      "Accuracy per abstract (Overall): 99.9 +\\- 1.2\n"
     ]
    }
   ],
   "source": [
    "arr = list(np.ones(99))+[7/8]\n",
    "print('Accuracy per abstract (Overall): {:.1f} +\\- {:.1f}'.format(np.mean(arr)*100,np.std(arr)*100))"
   ]
  },
  {
   "cell_type": "markdown",
   "metadata": {},
   "source": [
    "### 3. All taxonomic terms (training)"
   ]
  },
  {
   "cell_type": "code",
   "execution_count": 37,
   "metadata": {},
   "outputs": [
    {
     "name": "stdout",
     "output_type": "stream",
     "text": [
      "Overall:\n",
      "\n",
      "PC_exact: 0.979\n",
      "PC_approx: 0.995\n",
      "PC*_approx per abstract (Overall): 99.0 +\\- 5.8\n"
     ]
    }
   ],
   "source": [
    "# overall (inferred and non-inferred for the training set) \n",
    "\n",
    "# mistakes determined from taxonomic_mismatches_training.xlsx\n",
    "l = len(df1_train_)*5\n",
    "# exact (counting both minor and major mistakes as mistakes): \n",
    "mistakes = 22+44\n",
    "PC_exact = (l-mistakes)/l\n",
    "\n",
    "# approximate (only counting major mistakes as mistakes): \n",
    "mistakes = 15+1\n",
    "PC_approx = (l-mistakes)/l\n",
    "\n",
    "print('Overall:\\n')\n",
    "print('PC_exact:',round(PC_exact,3))\n",
    "print('PC_approx:',round(PC_approx,3))\n",
    "\n",
    "\n",
    "arr_inf = list(np.ones(92))+[3/4,7/9,15/18,2/6,11/13,9/10,17/18,12/13,6/8]\n",
    "arr_noninf = list(np.ones(99))+[7/8]\n",
    "arr = arr_inf + arr_noninf\n",
    "print('PC*_approx per abstract (Overall): {:.1f} +\\- {:.1f}'.format(np.mean(arr)*100,np.std(arr)*100))"
   ]
  },
  {
   "cell_type": "code",
   "execution_count": 218,
   "metadata": {},
   "outputs": [
    {
     "name": "stdout",
     "output_type": "stream",
     "text": [
      "Mismatches:\n",
      "\n",
      "Class | 4\n",
      "Index      | Manual label              | Prediction           | Species (manual)               | Species (prediction)          \n",
      "----------------------------------------------------------------------------------------------------\n",
      "         2 | Insecta                   | Coleoptera           | Abax parallelepipedus          | Abax Abax parallelepipedus    \n",
      "       516 | Insecta                   | Insect               | Eristalinus aeneus             | Eristalinus aeneus            \n",
      "       517 | Insecta                   | Insect               | Ischiodon scutellaris          | Ischiodon scutellaris         \n",
      "       518 | Insecta                   | Insect               | Episyrphus balteatus           | Episyrphus balteatus          \n",
      "\n",
      "\n",
      "Order | 9\n",
      "Index      | Manual label              | Prediction           | Species (manual)               | Species (prediction)          \n",
      "----------------------------------------------------------------------------------------------------\n",
      "         2 | Coleoptera                | Carabidae            | Abax parallelepipedus          | Abax Abax parallelepipedus    \n",
      "       294 | Hymenoptera               | Coleoptera           | Xenostigmus bifasciatus        | Xenostigmus bifasciatus       \n",
      "       515 | Hygrophila                | Pulmonata            | Lymnae truncatula              | Lymnaea truncatula            \n",
      "       623 | Heteroptera               | Hemiptera            | Nabis pseudoferus              | Nabis pseudoferus             \n",
      "       624 | Heteroptera               | Hemiptera            | Nabis ferus                    | Nabis ferus                   \n",
      "       625 | Heteroptera               | Hemiptera            | Nabis brevis                   | Nabis brevis                  \n",
      "       626 | Heteroptera               | Hemiptera            | Nabis major                    | Nabis major                   \n",
      "       627 | Heteroptera               | Hemiptera            | Nabicula flavomarginata        | Nabicula flavomarginata       \n",
      "       628 | Heteroptera               | Hemiptera            | Aptus mirmicoides              | Aptus mirmicoides             \n",
      "\n",
      "\n",
      "Family | 24\n",
      "Index      | Manual label              | Prediction           | Species (manual)               | Species (prediction)          \n",
      "----------------------------------------------------------------------------------------------------\n",
      "        52 | Doryctinae                | Braconidae           | Doryctes diadoxi               | Doryctes diadoxi              \n",
      "        53 | Doryctinae                | Braconidae           | Heterospilus nukunu            | Heterospilus nukunu           \n",
      "        54 | Braconinae                | Braconidae           | Callibracon moorei             | Callibracon moorei            \n",
      "       158 | Urodontinae               | Anthribidae          | Bruchela suturalis             | Bruchela suturalis            \n",
      "       159 | Urodontinae               | Anthribidae          | Bruchela rufipes               | Bruchela rufipes              \n",
      "       169 | Meenoplidae               | Cicadellidae         | Nisia nervosa                  | Nisia nervosa                 \n",
      "       173 | Crambidae                 | Pyralidae            | Scirpophaga incertulas         | Scirpophaga incertulas        \n",
      "       183 | Formicidae                | Myrmicinae           | Myrmica sp.                    | Myrmica                       \n",
      "       218 | Ichneumonidae             | Chalcidoidea         | Dentichasmias busseolae        | Dentichasmias busseolae       \n",
      "       222 | Chalcididae               | Pteromalidae         | Psilochalcis soudanensis       | Psilochalcis soudanensis      \n",
      "       223 | Ichneumonidae             | Chalcididae          | Syzenclus riiberrimns          | Syzenclus ruberrimus          \n",
      "       294 | Braconidae                | Cleridae             | Xenostigmus bifasciatus        | Xenostigmus bifasciatus       \n",
      "       296 | Braconidae                | Aphidiinae           | Pauesia juniperorum            | Pauesia juniperorum           \n",
      "       415 | Eulophidae                | Pteromalidae         | Mestocharis tropicalis         | Mestocharis tropicalis Yoshimoto\n",
      "       417 | Figitidae                 | Cynipidae            | Rhoptromeris sp.               | Rhoptromeris sp.              \n",
      "       523 | Psylloidea                | Psyllidae            | Phellopsylla formicosa         | Phellopsylla formicosa        \n",
      "       527 | Delphacidae               | Cicadellidae         | Chloriona smaragdula           | Chloriona smaragdula          \n",
      "       552 | Cicadellidae              | Delphacidae          | Phlogotettix cyclops           | Phlogotettix cyclops          \n",
      "       606 | Braconidae                | Aphidiidae           | Lysiphlebus testaceipes        | Lysiphlebus testaceipes       \n",
      "       611 | Staphylinidae             | Anobiidae            | Holobus sp.                    | Holobus                       \n",
      "       638 | Anthomylidae              | Anthomyiidae         | Botanophila spinosa            | Botanophila spinosa           \n",
      "       639 | Fulgoroidae               | Fulgoridae           | Tettigometra sulphurea         | Tettigometra sulphurea        \n",
      "       646 | Linyphiidae               | Mimetidae            | Ummeliata insecticeps          | Ummeliata insecticeps         \n",
      "       647 | Scytodidae                | Miturgidae           | Dictis striatipes              | Dictis striatipes             \n",
      "\n",
      "\n",
      "Genus | 9\n",
      "Index      | Manual label              | Prediction           | Species (manual)               | Species (prediction)          \n",
      "----------------------------------------------------------------------------------------------------\n",
      "        26 | Anagyms                   | Anagyrus             | Anagyms sp.                    | Anagyrus sp.                  \n",
      "        60 | Callibracon               | Ipobracon            | Callibracon fleviceps flaviceps | Ipobracon fleviceps           \n",
      "        61 | Callibracon               | Ipobracon            | Callibracon flaviceps mackayensis | Ipobracon mackayensis         \n",
      "       155 | Bracon                    | Habrobracon          | Bracon brevicornis             | Habrobracon brevicornis       \n",
      "       366 | Leiophron                 | Peristenus           | Leiophron reclinator           | Peristenus reclinator         \n",
      "       499 | Acrolepiospis             | Acrolepiopsis        | Acrolepiospis assectella       | Acrolepiopsis assectella      \n",
      "       515 | Lymnae                    | Lymnaea              | Lymnae truncatula              | Lymnaea truncatula            \n",
      "       541 | Empousca                  | Empoasca             | Empousca decipiens             | Empoasca decipiens            \n",
      "       592 | Helicoverpa               | Heliothis            | Helicoverpa peltigera          | Heliothis peltigera           \n",
      "\n",
      "\n",
      "Species | 20\n",
      "Index      | Manual label              | Prediction           | Species (manual)               | Species (prediction)          \n",
      "----------------------------------------------------------------------------------------------------\n",
      "        60 | fleviceps flaviceps       | fleviceps            | Callibracon fleviceps flaviceps | Ipobracon fleviceps           \n",
      "        61 | flaviceps mackayensis     | mackayensis          | Callibracon flaviceps mackayensis | Ipobracon mackayensis         \n",
      "       113 | violaceus                 | Carabus              | Carabus violaceus              | Carabus Carabus               \n",
      "       128 | spp.                      |                      | Philonthus spp.                | Philonthus                    \n",
      "       181 | spp.                      |                      | Philonthus spp.                | Philonthus                    \n",
      "       183 | sp.                       |                      | Myrmica sp.                    | Myrmica                       \n",
      "       198 | abbreviates               | abbreviatus          | Diaprepes abbreviates          | Diaprepes abbreviatus         \n",
      "       213 |                           | sp.                  | Dolichogenidea                 | Dolichogenidea sp.            \n",
      "       221 | fiirvus                   | furvus               | Pediobius fiirvus              | Pediobius furvus              \n",
      "       223 | riiberrimns               | ruberrimus           | Syzenclus riiberrimns          | Syzenclus ruberrimus          \n",
      "       224 | partellns                 | partellus            | Chilo partellns                | Chilo partellus               \n",
      "       226 | oriclialcociliellus       | orichalcociliellus   | Chilo oriclialcociliellus      | Chilo orichalcociliellus      \n",
      "       265 | pennsylvanicus            | pensylvanicus        | Harpalus pennsylvanicus        | Harpalus pensylvanicus        \n",
      "       334 | jureceki                  | jurecekiObenberger   | Hylaeogena jureceki            | Hylaeogena jurecekiObenberger \n",
      "       403 | sp.                       |                      | Pachyneuron sp.                | Pachyneuron                   \n",
      "       427 | sp. prob. nobilis         | sp. prob. nobilis (Loew) | Hydrellia sp. prob. nobilis    | Hydrellia sp. prob. nobilis (Loew)\n",
      "       472 |                           | Undetermined species | Taurhynchus                    | Taurhynchus Undetermined species\n",
      "       608 | sp.                       |                      | Leucopis sp.                   | Leucopis                      \n",
      "       610 | sp.                       |                      | Scymnus sp.                    | Scymnus                       \n",
      "       611 | sp.                       |                      | Holobus sp.                    | Holobus                       \n",
      "\n",
      "\n",
      "Total mismatches:\n",
      "66\n",
      "\n",
      "Accuracy:\n",
      "3089 / 3155 = 0.979\n"
     ]
    }
   ],
   "source": [
    "_ = print_taxonomic_mistakes(df1_train_, df2_train_)"
   ]
  },
  {
   "cell_type": "markdown",
   "metadata": {},
   "source": [
    "## Test set"
   ]
  },
  {
   "cell_type": "markdown",
   "metadata": {},
   "source": [
    "### 1. Inferred (Higher level taxonomy prediction):"
   ]
  },
  {
   "cell_type": "code",
   "execution_count": 20,
   "metadata": {},
   "outputs": [
    {
     "data": {
      "text/plain": [
       "(172, 128, 122)"
      ]
     },
     "execution_count": 20,
     "metadata": {},
     "output_type": "execute_result"
    }
   ],
   "source": [
    "inferred_c = np.array([2,3,4,5,6]+list(np.arange(8,28))+[31,32,33]+list(np.arange(37,54))+[55]+list(np.arange(71,83))+[84,85,87,89]+list(np.arange(93,105))+[108,112,113,114,115,116,117,119,120]+list(np.arange(122,130))+[131,132,135,136,142,148,150,151,153,154,155,158,159,160,161,163,164,165,166]+list(np.arange(175,198))+list(np.arange(199,219))+[221,222]+list(np.arange(224,230))+[233,234,237,238]+list(np.arange(240,247)))-2\n",
    "inferred_o = np.array(list(np.arange(4,14))+[15,16,17]+list(np.arange(28,35))+[36,38,39,49,51,52,53]+list(np.arange(55,61))+list(np.arange(65,70))+[82,86,87,88,89]+list(np.arange(93,105))+[109,115,119,120,121]+list(np.arange(123,133))+[135,136,138,140]+list(np.arange(143,153))+[156,158,159,160,161,164,165,166,167,168,173,174]+list(np.arange(176,183))+[198,201,202]+list(np.arange(209,216))+[217,218,219,221,227,228,230,231,232,233,235,236,237,238,246])-2\n",
    "inferred_f = np.array(list(np.arange(4,14))+[15,16,17]+list(np.arange(28,35))+[36,38,39,40,41,42,49,51,52,53,56,57,58,59,60]+list(np.arange(65,70))+[82]+list(np.arange(88,105))+[109,119,120,121]+list(np.arange(124,133))+[135,136,138,140]+list(np.arange(144,153))+[156,158,159,160,161,164,165,166,167,168,173,174]+list(np.arange(176,183))+[198,201,202]+list(np.arange(209,220))+[221,231,232,233,246])-2\n",
    "\n",
    "len(inferred_c), len(inferred_o), len(inferred_f)"
   ]
  },
  {
   "cell_type": "code",
   "execution_count": 21,
   "metadata": {},
   "outputs": [
    {
     "name": "stdout",
     "output_type": "stream",
     "text": [
      "Overall:\n",
      "\n",
      "PC_exact: 94.5\n",
      "PC_approx: 98.3\n"
     ]
    }
   ],
   "source": [
    "n = 0\n",
    "n += len(df1_test.loc[inferred_c][df2_test.loc[inferred_c]['EID']!='']['Class']) # number of non-inferred class predictions (171)\n",
    "n += len(df1_test.loc[inferred_o][df2_test.loc[inferred_o]['EID']!='']['Order']) # number of non-inferred order predictions (127)\n",
    "n += len(df1_test.loc[inferred_f][df2_test.loc[inferred_f]['EID']!='']['Family']) # number of non-inferred family predictions (121)\n",
    "\n",
    "# overall mistakes, as determined from taxonomic_mismatches_test.xlsx:\n",
    "\n",
    "# exact (counting both minor and major mistakes as mistakes): \n",
    "mistakes = 23\n",
    "PC_exact = (n-mistakes)/n\n",
    "\n",
    "# approximate (only counting major mistakes as mistakes): \n",
    "mistakes = 7\n",
    "PC_approx = (n-mistakes)/n\n",
    "\n",
    "print('Overall:\\n')\n",
    "print('PC_exact:',100*round(PC_exact,3))\n",
    "print('PC_approx:',100*round(PC_approx,3))"
   ]
  },
  {
   "cell_type": "code",
   "execution_count": 13,
   "metadata": {},
   "outputs": [
    {
     "name": "stdout",
     "output_type": "stream",
     "text": [
      "Accuracy and mismatches:\n",
      "\n",
      "Class: 159 / 171 = 0.93\n",
      "Index\tManual         \tPredicted      \n",
      "----------------------------------\n",
      "53 \tChromadorea    \tNematoda       \n",
      "117 \tChromadorea    \tNematoda       \n",
      "118 \tChromadorea    \tNematoda       \n",
      "148 \tChromadorea    \tSecernentea    \n",
      "149 \tChromadorea    \tSecernentea    \n",
      "162 \tChromadorea    \tSecernentea    \n",
      "163 \tChromadorea    \tSecernentea    \n",
      "164 \tChromadorea    \tSecernentea    \n",
      "179 \tChromadorea    \tNematoda       \n",
      "225 \tChromadorea    \tNematoda       \n",
      "226 \tChromadorea    \tNematoda       \n",
      "236 \tPlatyhelminthes\tTurbellaria    \n",
      "\n",
      "Order: 123 / 127 = 0.969\n",
      "Index\tManual         \tPredicted      \n",
      "----------------------------------\n",
      "3 \tHygrophila     \tBasommatophora \n",
      "30 \tTrombidiformes \tAcari          \n",
      "219 \tBlattodea      \tIsoptera       \n",
      "236 \tTurbellaria    \tPolycladida    \n",
      "\n",
      "Family: 114 / 121 = 0.942\n",
      "Index\tManual         \tPredicted      \n",
      "----------------------------------\n",
      "3 \tBulinidae      \tPlanorbidae    \n",
      "4 \tErebidae       \tNoctuidae      \n",
      "10 \tEumenidae      \tVespidae       \n",
      "118 \tRhabditidae    \tHeterorhabditidae\n",
      "164 \tRhabditidae    \tHeterorhabditidae\n",
      "177 \tEctobiidae     \tBlattellidae   \n",
      "178 \tEctobiidae     \tBlattellidae   \n"
     ]
    }
   ],
   "source": [
    "print_accuracy_and_mismatches([inferred_c, inferred_o, inferred_f], df1_test, df2_test)"
   ]
  },
  {
   "cell_type": "code",
   "execution_count": 234,
   "metadata": {},
   "outputs": [
    {
     "name": "stdout",
     "output_type": "stream",
     "text": [
      "Accuracy per abstract (Class): 99.0 +\\- 9.9\n"
     ]
    }
   ],
   "source": [
    "# the one major mistake in Class:\n",
    "\n",
    "# print(df1_test_.loc[236]['EID'])\n",
    "\n",
    "# print(len(df1_test_[df1_test_['EID']=='2-s2.0-0035466062'])) # 1/1 are major mistakes\n",
    "arr = list(np.ones(99))+[0/1]\n",
    "print('Accuracy per abstract (Class): {:.1f} +\\- {:.1f}'.format(np.mean(arr)*100,np.std(arr)*100))"
   ]
  },
  {
   "cell_type": "code",
   "execution_count": 235,
   "metadata": {},
   "outputs": [
    {
     "name": "stdout",
     "output_type": "stream",
     "text": [
      "Accuracy per abstract (Order): 98.5 +\\- 11.1\n"
     ]
    }
   ],
   "source": [
    "# the two major mistakes in Order:\n",
    "\n",
    "# print(df1_test_.loc[[3,219]]['EID'])\n",
    "\n",
    "# print(len(df1_test_[df1_test_['EID']=='2-s2.0-0024189410'])) # 1/2 are major mistakes\n",
    "# print(len(df1_test_[df1_test_['EID']=='2-s2.0-33846412291'])) # 1/1 are major mistakes\n",
    "\n",
    "arr = list(np.ones(98))+[1/2,0/1]\n",
    "print('Accuracy per abstract (Order): {:.1f} +\\- {:.1f}'.format(np.mean(arr)*100,np.std(arr)*100))"
   ]
  },
  {
   "cell_type": "code",
   "execution_count": 236,
   "metadata": {},
   "outputs": [
    {
     "name": "stdout",
     "output_type": "stream",
     "text": [
      "Accuracy per abstract (Family): 99.4 +\\- 4.1\n"
     ]
    }
   ],
   "source": [
    "# the four major mistakes in Family:\n",
    "\n",
    "# print(df1_test_.loc[[4,10,177,178]]['EID'])\n",
    "\n",
    "# arising from two abstracts: \n",
    "# print(len(df1_test_[df1_test_['EID']=='2-s2.0-32544437705'])) # 2/8 are major mistakes\n",
    "# print(len(df1_test_[df1_test_['EID']=='2-s2.0-0026901758']))  # 2/6 are major mistakes\n",
    "\n",
    "arr = list(np.ones(98))+[6/8,4/6]\n",
    "print('Accuracy per abstract (Family): {:.1f} +\\- {:.1f}'.format(np.mean(arr)*100,np.std(arr)*100))"
   ]
  },
  {
   "cell_type": "code",
   "execution_count": 27,
   "metadata": {},
   "outputs": [
    {
     "name": "stdout",
     "output_type": "stream",
     "text": [
      "Accuracy per abstract (Overall): 96.9 +\\- 15.3\n"
     ]
    }
   ],
   "source": [
    "arr = list(np.ones(95))+[0/1,1/2,0/1,6/8,4/6]\n",
    "print('Accuracy per abstract (Overall): {:.1f} +\\- {:.1f}'.format(np.mean(arr)*100,np.std(arr)*100))"
   ]
  },
  {
   "cell_type": "markdown",
   "metadata": {},
   "source": [
    "#### Calculating the number of taxonomic terms in family rank, for the abstracts which contained major mistakes"
   ]
  },
  {
   "cell_type": "code",
   "execution_count": 243,
   "metadata": {},
   "outputs": [
    {
     "name": "stdout",
     "output_type": "stream",
     "text": [
      "Number of abstracts: 5\n"
     ]
    }
   ],
   "source": [
    "l = 0\n",
    "eids=[]\n",
    "for i in [3,4,10,118,164,177,178]:\n",
    "    eid=df1_test_.loc[i]['EID']\n",
    "    if not eid in eids:\n",
    "        eids.append(eid)\n",
    "        l += len(df1_test_[df1_test_['EID']==eid])\n",
    "\n",
    "print('Number of abstracts:',len(eids))"
   ]
  },
  {
   "cell_type": "code",
   "execution_count": 244,
   "metadata": {},
   "outputs": [
    {
     "name": "stdout",
     "output_type": "stream",
     "text": [
      "Inferred taxonomic terms in the family rank from selected abstracts: 23 out of 121 = 19.0%\n"
     ]
    }
   ],
   "source": [
    "s = 0\n",
    "for inf, lab in zip([inferred_f],['Family']):\n",
    "    arr1 = df1_test.loc[inf][df2_test.loc[inf]['EID']!=''][[lab,'EID']]\n",
    "    for eid in eids:\n",
    "        s += len(arr1[arr1['EID']==eid])\n",
    "\n",
    "print('Inferred taxonomic terms in the family rank from selected abstracts:',s,'out of 121 = {:.1f}%'.format(100*s/121)) "
   ]
  },
  {
   "cell_type": "markdown",
   "metadata": {},
   "source": [
    "### 2. Non-inferred (Taxonomic Named Entity Recognition):"
   ]
  },
  {
   "cell_type": "code",
   "execution_count": 29,
   "metadata": {},
   "outputs": [
    {
     "data": {
      "text/plain": [
       "(73, 117, 123)"
      ]
     },
     "execution_count": 29,
     "metadata": {},
     "output_type": "execute_result"
    }
   ],
   "source": [
    "noninf_c = list(set(np.arange(0,245))-set(inferred_c))\n",
    "noninf_o = list(set(np.arange(0,245))-set(inferred_o))\n",
    "noninf_f = list(set(np.arange(0,245))-set(inferred_f))\n",
    "\n",
    "len(noninf_c), len(noninf_o), len(noninf_f)"
   ]
  },
  {
   "cell_type": "code",
   "execution_count": 34,
   "metadata": {},
   "outputs": [
    {
     "name": "stdout",
     "output_type": "stream",
     "text": [
      "123\n",
      "Overall:\n",
      "\n",
      "PC_exact: 96.8\n",
      "PC_approx: 99.63\n"
     ]
    }
   ],
   "source": [
    "n = 0\n",
    "n += len(df1_test.loc[noninf_c][df2_test.loc[noninf_c]['EID']!='']['Class']) # number of non-inferred class predictions (73)\n",
    "n += len(df1_test.loc[noninf_o][df2_test.loc[noninf_o]['EID']!='']['Order']) # number of non-inferred order predictions (117)\n",
    "n += len(df1_test.loc[noninf_f][df2_test.loc[noninf_f]['EID']!='']['Family']) # number of non-inferred family predictions (123)\n",
    "n += len(df1_test.loc[list(np.arange(0,245))][df2_test.loc[list(np.arange(0,245))]['EID']!='']['Genus']) # number of non-inferred genus predictions (244)\n",
    "n += len(df1_test.loc[list(np.arange(0,245))][df2_test.loc[list(np.arange(0,245))]['EID']!='']['Species']) # number of non-inferred species predictions (244)\n",
    "\n",
    "# overall mistakes, as determined from taxonomic_mismatches_test.xlsx:\n",
    "\n",
    "# exact (counting both minor and major mistakes as mistakes): \n",
    "mistakes = 26\n",
    "PC_exact = (n-mistakes)/n\n",
    "\n",
    "# approximate (only counting major mistakes as mistakes): \n",
    "mistakes = 3\n",
    "PC_approx = (n-mistakes)/n\n",
    "\n",
    "print('Overall:\\n')\n",
    "print('PC_exact:',100*round(PC_exact,3))\n",
    "print('PC_approx:',100*round(PC_approx,4))"
   ]
  },
  {
   "cell_type": "code",
   "execution_count": 250,
   "metadata": {},
   "outputs": [
    {
     "name": "stdout",
     "output_type": "stream",
     "text": [
      "Accuracy and mismatches:\n",
      "\n",
      "Class: 73 / 73 = 1.0\n",
      "Index\tManual         \tPredicted      \n",
      "----------------------------------\n",
      "\n",
      "Order: 107 / 117 = 0.915\n",
      "Index\tManual         \tPredicted      \n",
      "----------------------------------\n",
      "43 \tHeteroptera    \tHemiptera      \n",
      "60 \tHomoptera      \tHemiptera      \n",
      "68 \tHomoptera      \tHemiptera      \n",
      "82 \tAcari          \tTrombidiformes \n",
      "140 \tAcari          \tTrombidiformes \n",
      "170 \tHomoptera      \tHemiptera      \n",
      "181 \tAcari          \tTrombidiformes \n",
      "182 \tAcari          \tTrombidiformes \n",
      "221 \tHomoptera      \tHemiptera      \n",
      "232 \tAcari          \tMesostigmata   \n",
      "\n",
      "Family: 121 / 123 = 0.984\n",
      "Index\tManual         \tPredicted      \n",
      "----------------------------------\n",
      "60 \tAphididea      \tAphididae      \n",
      "238 \tIbhneumonidae  \tIchneumonidae  \n"
     ]
    }
   ],
   "source": [
    "print_accuracy_and_mismatches([noninf_c, noninf_o, noninf_f], df1_test, df2_test)"
   ]
  },
  {
   "cell_type": "code",
   "execution_count": 251,
   "metadata": {},
   "outputs": [
    {
     "name": "stdout",
     "output_type": "stream",
     "text": [
      "Accuracy per abstract (Order): 99.0 +\\- 9.9\n"
     ]
    }
   ],
   "source": [
    "# the two major mistakes in Order:\n",
    "\n",
    "# print(df1_test_.loc[[181,182]]['EID'])\n",
    "\n",
    "# print(len(df1_test_[df1_test_['EID']=='2-s2.0-84937421125'])) # 2/2 are major mistakes\n",
    "\n",
    "arr = list(np.ones(99))+[0/2]\n",
    "print('Accuracy per abstract (Order): {:.1f} +\\- {:.1f}'.format(np.mean(arr)*100,np.std(arr)*100))"
   ]
  },
  {
   "cell_type": "code",
   "execution_count": 252,
   "metadata": {},
   "outputs": [
    {
     "name": "stdout",
     "output_type": "stream",
     "text": [
      "Accuracy per abstract (Species): 99.8 +\\- 2.0\n"
     ]
    }
   ],
   "source": [
    "# the one major mistake in Species:\n",
    "\n",
    "# print(df1_test_.loc[157])\n",
    "\n",
    "# print(len(df1_test_[df1_test_['EID']=='2-s2.0-0001065549'])) # 1/5 are major mistakes\n",
    "\n",
    "arr = list(np.ones(99))+[4/5]\n",
    "print('Accuracy per abstract (Species): {:.1f} +\\- {:.1f}'.format(np.mean(arr)*100,np.std(arr)*100))"
   ]
  },
  {
   "cell_type": "code",
   "execution_count": 26,
   "metadata": {},
   "outputs": [
    {
     "name": "stdout",
     "output_type": "stream",
     "text": [
      "Accuracy per abstract (Overall): 98.8 +\\- 10.1\n"
     ]
    }
   ],
   "source": [
    "arr = list(np.ones(98))+[0/2]+[4/5]\n",
    "\n",
    "print('Accuracy per abstract (Overall): {:.1f} +\\- {:.1f}'.format(np.mean(arr)*100,np.std(arr)*100))"
   ]
  },
  {
   "cell_type": "markdown",
   "metadata": {},
   "source": [
    "### All taxonomic terms (test)"
   ]
  },
  {
   "cell_type": "code",
   "execution_count": 38,
   "metadata": {},
   "outputs": [
    {
     "name": "stdout",
     "output_type": "stream",
     "text": [
      "Overall:\n",
      "\n",
      "PC_exact: 0.96\n",
      "PC_approx: 0.992\n",
      "PC*_approx per abstract (Overall): 97.9 +\\- 13.0\n"
     ]
    }
   ],
   "source": [
    "# overall (inferred and non-inferred for test set)\n",
    "\n",
    "# determined from taxonomic_mismatches_test.xlsx\n",
    "l = len(df1_test_)*5\n",
    "\n",
    "# exact (counting both minor and major mistakes as mistakes): \n",
    "mistakes = 23+26\n",
    "PC_exact = (l-mistakes)/l\n",
    "\n",
    "# approximate (only counting major mistakes as mistakes): \n",
    "mistakes = 7+3\n",
    "PC_approx = (l-mistakes)/l\n",
    "\n",
    "print('Overall:\\n')\n",
    "print('PC_exact:',round(PC_exact,3))\n",
    "print('PC_approx:',round(PC_approx,3))\n",
    "\n",
    "arr_inf = list(np.ones(95))+[0/1,1/2,0/1,6/8,4/6]\n",
    "arr_noninf = list(np.ones(98))+[0/2]+[4/5]\n",
    "arr = arr_inf + arr_noninf\n",
    "print('PC*_approx per abstract (Overall): {:.1f} +\\- {:.1f}'.format(np.mean(arr)*100,np.std(arr)*100))"
   ]
  },
  {
   "cell_type": "code",
   "execution_count": 253,
   "metadata": {
    "scrolled": true
   },
   "outputs": [
    {
     "name": "stdout",
     "output_type": "stream",
     "text": [
      "Mismatches:\n",
      "\n",
      "Class | 12\n",
      "Index      | Manual label              | Prediction           | Species (manual)               | Species (prediction)          \n",
      "----------------------------------------------------------------------------------------------------\n",
      "        53 | Chromadorea               | Nematoda             | Steinernema carpocapsae        | Steinernema carpocapsae       \n",
      "       117 | Chromadorea               | Nematoda             | Steinernema spp.               | Steinernema spp.              \n",
      "       118 | Chromadorea               | Nematoda             | Heterorhabditis spp.           | Heterorhabditis spp.          \n",
      "       148 | Chromadorea               | Secernentea          | Steinernema carpocapsae        | Steinernema carpocapsae       \n",
      "       149 | Chromadorea               | Secernentea          | Oscheius chongmingensis        | Oscheius chongmingensis       \n",
      "       162 | Chromadorea               | Secernentea          | Steinernema glaseri            | Steinernema glaseri           \n",
      "       163 | Chromadorea               | Secernentea          | Steinernema carpocapsae        | Steinernema carpocapsae       \n",
      "       164 | Chromadorea               | Secernentea          | Heterorhabditis bacteriophora  | Heterorhabditis bacteriophora \n",
      "       179 | Chromadorea               | Nematoda             | Steinernema carpocapsae        | Steinernema carpocapsae       \n",
      "       225 | Chromadorea               | Nematoda             | Steinernema carpocapsae        | Steinernema carpocapsae       \n",
      "       226 | Chromadorea               | Nematoda             | Steinernema feltiae            | Steinernema feltiae           \n",
      "       236 | Platyhelminthes           | Turbellaria          | Imogine mcgrathi               | Imogine mcgrathi              \n",
      "\n",
      "\n",
      "Order | 14\n",
      "Index      | Manual label              | Prediction           | Species (manual)               | Species (prediction)          \n",
      "----------------------------------------------------------------------------------------------------\n",
      "         3 | Hygrophila                | Basommatophora       | Indoplanorbis exustus          | Indoplanorbis exustus         \n",
      "        30 | Trombidiformes            | Acari                | Panonychus ulmi                | Panonychus Panonychus ulmi    \n",
      "        43 | Heteroptera               | Hemiptera            | Rhynocoris marginatus          | Rhynocoris marginatus         \n",
      "        60 | Homoptera                 | Hemiptera            | Myzus persicae                 | Myzus persicae                \n",
      "        68 | Homoptera                 | Hemiptera            | Agonoscena targionii           | Agonoscena targionii          \n",
      "        82 | Acari                     | Trombidiformes       | Tetranychus urticae            | Tetranychus urticae           \n",
      "       140 | Acari                     | Trombidiformes       | Allothrombium pulvinum         | Allothrombium pulvinum        \n",
      "       170 | Homoptera                 | Hemiptera            | Bemisia tabaci                 | Bemisia tabaci                \n",
      "       181 | Acari                     | Trombidiformes       | Typhlodromips swirskii         | Typhlodromips swirskii        \n",
      "       182 | Acari                     | Trombidiformes       | Neoseiulus barkeri             | Neoseiulus barkeri            \n",
      "       219 | Blattodea                 | Isoptera             | Coptotermes formosanus         | Coptotermes formosanus        \n",
      "       221 | Homoptera                 | Hemiptera            | Bemisia tabaci                 | Bemisia tabaci Gennadius      \n",
      "       232 | Acari                     | Mesostigmata         | Phytoseiulus persimilis        | Phytoseiulus persimilis       \n",
      "       236 | Turbellaria               | Polycladida          | Imogine mcgrathi               | Imogine mcgrathi              \n",
      "\n",
      "\n",
      "Family | 9\n",
      "Index      | Manual label              | Prediction           | Species (manual)               | Species (prediction)          \n",
      "----------------------------------------------------------------------------------------------------\n",
      "         3 | Bulinidae                 | Planorbidae          | Indoplanorbis exustus          | Indoplanorbis exustus         \n",
      "         4 | Erebidae                  | Noctuidae            | Anticarsia gemmatalis          | Anticarsia gemmatalis         \n",
      "        10 | Eumenidae                 | Vespidae             | Polistes sp.                   | Polistes sp.                  \n",
      "        60 | Aphididea                 | Aphididae            | Myzus persicae                 | Myzus persicae                \n",
      "       118 | Rhabditidae               | Heterorhabditidae    | Heterorhabditis spp.           | Heterorhabditis spp.          \n",
      "       164 | Rhabditidae               | Heterorhabditidae    | Heterorhabditis bacteriophora  | Heterorhabditis bacteriophora \n",
      "       177 | Ectobiidae                | Blattellidae         | Blattella germanica            | Blattella germanica           \n",
      "       178 | Ectobiidae                | Blattellidae         | Supella longipalpa             | Supella longipalpa            \n",
      "       238 | Ibhneumonidae             | Ichneumonidae        | Phorotrophus mameti            | Phorotrophus mameti           \n",
      "\n",
      "\n",
      "Genus | 2\n",
      "Index      | Manual label              | Prediction           | Species (manual)               | Species (prediction)          \n",
      "----------------------------------------------------------------------------------------------------\n",
      "        94 | Calosma                   | Calosoma             | Calosma maderae                | Calosoma maderae              \n",
      "       207 | Tetranycus                | Tetranychus          | Tetranycus urticae             | Tetranychus urticae           \n",
      "\n",
      "\n",
      "Species | 12\n",
      "Index      | Manual label              | Prediction           | Species (manual)               | Species (prediction)          \n",
      "----------------------------------------------------------------------------------------------------\n",
      "       115 | spp.                      |                      | Acantholyda spp.               | Acantholyda                   \n",
      "       157 | laricicola                |                      | Deraeocoris laricicola         | Deraeocoris                   \n",
      "       158 | nr. hoyi                  |                      | Evarcha nr. hoyi               | Evarcha                       \n",
      "       186 | sp.                       |                      | Glypta sp.                     | Glypta                        \n",
      "       193 | sp.                       |                      | Sympiesis sp.                  | Sympiesis                     \n",
      "       194 | virgifera virgifera       | virgifera virgifera LeConte | Diabrotica virgifera virgifera | Diabrotica virgifera virgifera LeConte\n",
      "       195 | undecimpunctata howardi   | undecimpunctata howardi Barber | Diabrotica undecimpunctata howardi | Diabrotica undecimpunctata howardi Barber\n",
      "       197 | sp.                       |                      | Aphidius sp.                   | Aphidius                      \n",
      "       200 | sp.                       |                      | Pachyneuron sp.                | Pachyneuron                   \n",
      "       222 | sp.                       | sp                   | Eretmocerus sp.                | Eretmocerus sp                \n",
      "       223 | spp.                      | spp                  | Encarsia spp.                  | Encarsia spp                  \n",
      "       224 | spp.                      | spp                  | Eretmocerus spp.               | Eretmocerus spp               \n",
      "\n",
      "\n",
      "Total mismatches:\n",
      "49\n",
      "\n",
      "Accuracy:\n",
      "1171 / 1220 = 0.96\n"
     ]
    }
   ],
   "source": [
    "_ = print_taxonomic_mistakes(df1_test_, df2_test_)"
   ]
  },
  {
   "cell_type": "markdown",
   "metadata": {
    "jp-MarkdownHeadingCollapsed": true
   },
   "source": [
    "# Roles"
   ]
  },
  {
   "cell_type": "markdown",
   "metadata": {
    "jp-MarkdownHeadingCollapsed": true
   },
   "source": [
    "## Training set "
   ]
  },
  {
   "cell_type": "code",
   "execution_count": 23,
   "metadata": {},
   "outputs": [
    {
     "data": {
      "text/plain": [
       "array(['', 'Biological Control Agent', 'Herbivore', 'Host',\n",
       "       'Hyperparasitoid', 'Leaf miner', 'Parasitoid', 'Pest',\n",
       "       'Pollinator', 'Predator', 'Prey'], dtype=object)"
      ]
     },
     "execution_count": 23,
     "metadata": {},
     "output_type": "execute_result"
    }
   ],
   "source": [
    "np.unique(df1_train_['Role'])"
   ]
  },
  {
   "cell_type": "code",
   "execution_count": 24,
   "metadata": {},
   "outputs": [
    {
     "data": {
      "text/plain": [
       "array(['', 'Biological Control', 'Biological Control Agent',\n",
       "       'Biological control agent', 'Herbivore', 'Host', 'Hyperparasitoid',\n",
       "       'Not mentioned', 'Parasitoid', 'Pest', 'Pollinator', 'Predator',\n",
       "       'Prey', 'Prey, Host'], dtype=object)"
      ]
     },
     "execution_count": 24,
     "metadata": {},
     "output_type": "execute_result"
    }
   ],
   "source": [
    "np.unique(df2_train_['Role'])"
   ]
  },
  {
   "cell_type": "code",
   "execution_count": 37,
   "metadata": {},
   "outputs": [
    {
     "name": "stdout",
     "output_type": "stream",
     "text": [
      "['B.C.A.' 'H. Parasitoid' 'Other' 'Parasitoid' 'Pest' 'Predator'\n",
      " 'Prey/Host' 'Unclear']\n",
      "['B.C.A.' 'H. Parasitoid' 'Other' 'Parasitoid' 'Pest' 'Predator'\n",
      " 'Prey/Host' 'Unclear']\n"
     ]
    }
   ],
   "source": [
    "# group these terms into common roles: \n",
    "\n",
    "roles1 = df1_train_[['Role','EID']].copy()\n",
    "roles2 = df2_train_[['Role','EID']].copy()\n",
    "\n",
    "for i in list(roles1.index):\n",
    "    if roles1.loc[i]['Role']=='Biological Control Agent':\n",
    "        roles1.loc[i]['Role']='B.C.A.'\n",
    "    if (roles2.loc[i]['Role']=='Biological control agent') or (roles2.loc[i]['Role']=='Biological Control') or (roles2.loc[i]['Role']=='Biological Control Agent'):\n",
    "        roles2.loc[i]['Role']='B.C.A.'\n",
    "    if roles1.loc[i]['Role']=='Hyperparasitoid':\n",
    "        roles1.loc[i]['Role']='H. Parasitoid'\n",
    "    if roles2.loc[i]['Role']=='Hyperparasitoid':\n",
    "        roles2.loc[i]['Role']='H. Parasitoid'   \n",
    "    if (roles2.loc[i]['Role']=='Host') or (roles2.loc[i]['Role']=='Prey') or (roles2.loc[i]['Role']=='Prey, Host'):\n",
    "        roles2.loc[i]['Role']='Prey/Host'\n",
    "    if (roles1.loc[i]['Role']=='Host') or (roles1.loc[i]['Role']=='Prey'):\n",
    "        roles1.loc[i]['Role']='Prey/Host'\n",
    "    if (roles2.loc[i]['Role']=='Not mentioned') or (roles2.loc[i]['Role']==''):\n",
    "        roles2.loc[i]['Role']='Unclear'\n",
    "    if roles1.loc[i]['Role']=='':\n",
    "        roles1.loc[i]['Role']='Unclear'\n",
    "    if (roles1.loc[i]['Role']=='Herbivore') or (roles1.loc[i]['Role']=='Leaf miner') or (roles1.loc[i]['Role']=='Pollinator'):\n",
    "        roles1.loc[i]['Role']='Other'\n",
    "    if (roles2.loc[i]['Role']=='Herbivore') or (roles2.loc[i]['Role']=='Pollinator'):\n",
    "        roles2.loc[i]['Role']='Other'\n",
    "\n",
    "print(np.unique(roles1['Role']))\n",
    "print(np.unique(roles2['Role']))"
   ]
  },
  {
   "cell_type": "code",
   "execution_count": 28,
   "metadata": {},
   "outputs": [],
   "source": [
    "labels = ['Predator', 'Parasitoid','Pest','B.C.A.','H. Parasitoid','Nat. Enemy','Prey/Host','Other','Unclear']"
   ]
  },
  {
   "cell_type": "code",
   "execution_count": 35,
   "metadata": {},
   "outputs": [
    {
     "name": "stderr",
     "output_type": "stream",
     "text": [
      "/var/folders/2l/62xwcgws5mx86y0bhqmkbpqc0000gn/T/ipykernel_53247/2015775838.py:174: RuntimeWarning: invalid value encountered in divide\n",
      "  cm_perc = cm / cm_sum.astype(float) * 100\n"
     ]
    },
    {
     "data": {
      "image/png": "[encoded data removed]",
      "text/plain": [
       "<Figure size 900x600 with 2 Axes>"
      ]
     },
     "metadata": {},
     "output_type": "display_data"
    },
    {
     "name": "stdout",
     "output_type": "stream",
     "text": [
      "\n",
      "\n",
      "               precision    recall  f1-score   support\n",
      "\n",
      "     Predator      1.000     0.932     0.965       207\n",
      "   Parasitoid      0.995     0.979     0.987       195\n",
      "         Pest      0.953     0.812     0.877       149\n",
      "       B.C.A.      0.889     1.000     0.941        16\n",
      "H. Parasitoid      1.000     0.929     0.963        14\n",
      "   Nat. Enemy      0.000     0.000     0.000         0\n",
      "    Prey/Host      0.143     0.500     0.222         4\n",
      "        Other      0.875     0.913     0.894        23\n",
      "      Unclear      0.240     0.522     0.329        23\n",
      "\n",
      "    micro avg      0.902     0.902     0.902       631\n",
      "    macro avg      0.677     0.732     0.686       631\n",
      " weighted avg      0.947     0.902     0.920       631\n",
      "\n"
     ]
    }
   ],
   "source": [
    "plot_confusion_matrix(roles1['Role'], roles2['Role'], labels=labels, xlab='GPT-4 Prediction', ylab='Manual Label', train_test='train',\n",
    "                      figsize=(9,6), xrot=45, filename='cm_roles')"
   ]
  },
  {
   "cell_type": "code",
   "execution_count": 38,
   "metadata": {},
   "outputs": [
    {
     "name": "stdout",
     "output_type": "stream",
     "text": [
      "Label: Predator (num abstracts: 54)\n",
      "precision:\t100.0 +/- 0.0\n",
      "recall:\t\t98.4 +/- 11.8\n",
      "f1:\t\t98.6 +/- 10.5\n",
      "\n",
      "\n",
      "Label: Parasitoid (num abstracts: 35)\n",
      "precision:\t97.2 +/- 16.4\n",
      "recall:\t\t97.1 +/- 11.6\n",
      "f1:\t\t98.1 +/- 7.7\n",
      "\n",
      "\n",
      "Label: Pest (num abstracts: 68)\n",
      "precision:\t96.8 +/- 17.5\n",
      "recall:\t\t88.8 +/- 30.9\n",
      "f1:\t\t99.3 +/- 5.4\n",
      "\n",
      "\n",
      "Label: B.C.A. (num abstracts: 5)\n",
      "precision:\t71.4 +/- 45.2\n",
      "recall:\t\t100.0 +/- 0.0\n",
      "f1:\t\t100.0 +/- 0.0\n",
      "\n",
      "\n",
      "Label: H. Parasitoid (num abstracts: 6)\n",
      "precision:\t100.0 +/- 0.0\n",
      "recall:\t\t83.3 +/- 37.3\n",
      "f1:\t\t100.0 +/- 0.0\n",
      "\n",
      "\n",
      "Label: Nat. Enemy (num abstracts: 0)\n",
      "precision:\tnan +/- nan\n",
      "recall:\t\tnan +/- nan\n",
      "f1:\t\tnan +/- nan\n",
      "\n",
      "\n"
     ]
    },
    {
     "name": "stderr",
     "output_type": "stream",
     "text": [
      "/Users/daanscheepens/miniconda3/lib/python3.11/site-packages/numpy/core/fromnumeric.py:3504: RuntimeWarning: Mean of empty slice.\n",
      "  return _methods._mean(a, axis=axis, dtype=dtype,\n",
      "/Users/daanscheepens/miniconda3/lib/python3.11/site-packages/numpy/core/_methods.py:129: RuntimeWarning: invalid value encountered in scalar divide\n",
      "  ret = ret.dtype.type(ret / rcount)\n",
      "/Users/daanscheepens/miniconda3/lib/python3.11/site-packages/numpy/core/_methods.py:206: RuntimeWarning: Degrees of freedom <= 0 for slice\n",
      "  ret = _var(a, axis=axis, dtype=dtype, out=out, ddof=ddof,\n",
      "/Users/daanscheepens/miniconda3/lib/python3.11/site-packages/numpy/core/_methods.py:163: RuntimeWarning: invalid value encountered in divide\n",
      "  arrmean = um.true_divide(arrmean, div, out=arrmean,\n",
      "/Users/daanscheepens/miniconda3/lib/python3.11/site-packages/numpy/core/_methods.py:198: RuntimeWarning: invalid value encountered in scalar divide\n",
      "  ret = ret.dtype.type(ret / rcount)\n"
     ]
    },
    {
     "name": "stdout",
     "output_type": "stream",
     "text": [
      "Label: Prey/Host (num abstracts: 3)\n",
      "precision:\t7.4 +/- 21.0\n",
      "recall:\t\t33.3 +/- 47.1\n",
      "f1:\t\t80.0 +/- 0.0\n",
      "\n",
      "\n",
      "Label: Other (num abstracts: 7)\n",
      "precision:\t62.5 +/- 48.4\n",
      "recall:\t\t71.4 +/- 45.2\n",
      "f1:\t\t100.0 +/- 0.0\n",
      "\n",
      "\n",
      "Label: Unclear (num abstracts: 9)\n",
      "precision:\t37.5 +/- 48.4\n",
      "recall:\t\t33.3 +/- 47.1\n",
      "f1:\t\t100.0 +/- 0.0\n",
      "\n",
      "\n"
     ]
    }
   ],
   "source": [
    "# scores per abstract \n",
    "\n",
    "eids = np.unique(df1_train_['EID'])\n",
    "\n",
    "scores_per_abstract(roles1, roles2, eids, header='Role', labels=labels)"
   ]
  },
  {
   "cell_type": "markdown",
   "metadata": {},
   "source": [
    "## Test set"
   ]
  },
  {
   "cell_type": "code",
   "execution_count": 39,
   "metadata": {},
   "outputs": [
    {
     "data": {
      "text/plain": [
       "array(['', 'Biological Control Agent', 'Ectoparasite', 'Herbivore',\n",
       "       'Host', 'Hyperparasitoid', 'Leaf Miner', 'Mosquito',\n",
       "       'Natural Enemy', 'Parasitoid', 'Pest', 'Predator', 'Prey',\n",
       "       'Scavenger'], dtype=object)"
      ]
     },
     "execution_count": 39,
     "metadata": {},
     "output_type": "execute_result"
    }
   ],
   "source": [
    "np.unique(df1_test_['Role'])"
   ]
  },
  {
   "cell_type": "code",
   "execution_count": 40,
   "metadata": {},
   "outputs": [
    {
     "data": {
      "text/plain": [
       "array(['', 'Biological Control Agent', 'Biological control agent',\n",
       "       'Competitor', 'Herbivore', 'Host', 'Hyperparasitoid', 'Parasitoid',\n",
       "       'Pest', 'Predator', 'Prey', 'Scavenger', 'Secondary Pest'],\n",
       "      dtype=object)"
      ]
     },
     "execution_count": 40,
     "metadata": {},
     "output_type": "execute_result"
    }
   ],
   "source": [
    "np.unique(df2_test_['Role'])"
   ]
  },
  {
   "cell_type": "code",
   "execution_count": 41,
   "metadata": {},
   "outputs": [
    {
     "name": "stdout",
     "output_type": "stream",
     "text": [
      "['B.C.A.' 'H. Parasitoid' 'Nat. Enemy' 'Other' 'Parasitoid' 'Pest'\n",
      " 'Predator' 'Prey/Host' 'Unclear']\n",
      "['B.C.A.' 'H. Parasitoid' 'Other' 'Parasitoid' 'Pest' 'Predator'\n",
      " 'Prey/Host' 'Unclear']\n"
     ]
    }
   ],
   "source": [
    "roles1 = df1_test_[['Role','EID']].copy()\n",
    "roles2 = df2_test_[['Role','EID']].copy()\n",
    "\n",
    "for i in list(roles1.index):\n",
    "    if roles1.loc[i]['Role']=='Biological Control Agent':\n",
    "        roles1.loc[i]['Role']='B.C.A.'\n",
    "    if (roles2.loc[i]['Role']=='Biological Control Agent') or (roles2.loc[i]['Role']=='Biological control agent'):\n",
    "        roles2.loc[i]['Role']='B.C.A.'\n",
    "    if roles1.loc[i]['Role']=='Hyperparasitoid':\n",
    "        roles1.loc[i]['Role']='H. Parasitoid'\n",
    "    if roles2.loc[i]['Role']=='Hyperparasitoid':\n",
    "        roles2.loc[i]['Role']='H. Parasitoid'  \n",
    "    if (roles2.loc[i]['Role']=='Host') or (roles2.loc[i]['Role']=='Prey'):\n",
    "        roles2.loc[i]['Role']='Prey/Host'\n",
    "    if (roles1.loc[i]['Role']=='Host') or (roles1.loc[i]['Role']=='Prey'):\n",
    "        roles1.loc[i]['Role']='Prey/Host'\n",
    "    if (roles2.loc[i]['Role']=='Not mentioned') or (roles2.loc[i]['Role']==''):\n",
    "        roles2.loc[i]['Role']='Unclear'\n",
    "    if roles1.loc[i]['Role']=='':\n",
    "        roles1.loc[i]['Role']='Unclear'\n",
    "    if (roles1.loc[i]['Role']=='Herbivore') or (roles1.loc[i]['Role']=='Leaf Miner') or (roles1.loc[i]['Role']=='Scavenger') or (roles1.loc[i]['Role']=='Ectoparasite') or (roles1.loc[i]['Role']=='Mosquito'):\n",
    "        roles1.loc[i]['Role']='Other'\n",
    "    if (roles2.loc[i]['Role']=='Herbivore') or (roles2.loc[i]['Role']=='Pollinator') or (roles2.loc[i]['Role']=='Scavenger') or (roles2.loc[i]['Role']=='Competitor'):\n",
    "        roles2.loc[i]['Role']='Other'\n",
    "    if roles2.loc[i]['Role']=='Secondary Pest':\n",
    "        roles2.loc[i]['Role']='Pest'\n",
    "    if roles1.loc[i]['Role']=='Natural Enemy':\n",
    "        roles1.loc[i]['Role']='Nat. Enemy'\n",
    "\n",
    "print(np.unique(roles1['Role']))\n",
    "print(np.unique(roles2['Role']))"
   ]
  },
  {
   "cell_type": "code",
   "execution_count": null,
   "metadata": {},
   "outputs": [],
   "source": [
    "labels = ['Predator', 'Parasitoid','Pest','B.C.A.','H. Parasitoid','Nat. Enemy','Prey/Host','Other','Unclear']"
   ]
  },
  {
   "cell_type": "code",
   "execution_count": 42,
   "metadata": {},
   "outputs": [
    {
     "data": {
      "image/png": "[encoded data removed]",
      "text/plain": [
       "<Figure size 900x600 with 2 Axes>"
      ]
     },
     "metadata": {},
     "output_type": "display_data"
    },
    {
     "name": "stdout",
     "output_type": "stream",
     "text": [
      "\n",
      "\n",
      "               precision    recall  f1-score   support\n",
      "\n",
      "     Predator      0.804     0.891     0.845        46\n",
      "   Parasitoid      1.000     0.981     0.990        52\n",
      "         Pest      0.874     0.960     0.915       101\n",
      "       B.C.A.      0.875     0.636     0.737        11\n",
      "H. Parasitoid      1.000     1.000     1.000         2\n",
      "   Nat. Enemy      0.000     0.000     0.000         3\n",
      "    Prey/Host      0.600     0.429     0.500         7\n",
      "        Other      0.273     0.429     0.333         7\n",
      "      Unclear      0.400     0.133     0.200        15\n",
      "\n",
      "     accuracy                          0.844       244\n",
      "    macro avg      0.647     0.607     0.613       244\n",
      " weighted avg      0.824     0.844     0.827       244\n",
      "\n"
     ]
    }
   ],
   "source": [
    "plot_confusion_matrix(roles1['Role'], roles2['Role'], labels=labels, xlab='GPT-4 Prediction', ylab='Manual Label', train_test='test',\n",
    "                      figsize=(9,6), xrot=45, filename='cm_roles')"
   ]
  },
  {
   "cell_type": "code",
   "execution_count": 43,
   "metadata": {},
   "outputs": [
    {
     "name": "stdout",
     "output_type": "stream",
     "text": [
      "Label: Predator (num abstracts: 19)\n",
      "precision:\t76.0 +/- 42.7\n",
      "recall:\t\t95.6 +/- 18.6\n",
      "f1:\t\t96.2 +/- 15.9\n",
      "\n",
      "\n",
      "Label: Parasitoid (num abstracts: 23)\n",
      "precision:\t100.0 +/- 0.0\n",
      "recall:\t\t98.9 +/- 5.1\n",
      "f1:\t\t99.4 +/- 2.9\n",
      "\n",
      "\n",
      "Label: Pest (num abstracts: 73)\n",
      "precision:\t89.9 +/- 30.2\n",
      "recall:\t\t96.6 +/- 17.2\n",
      "f1:\t\t99.5 +/- 3.9\n",
      "\n",
      "\n",
      "Label: B.C.A. (num abstracts: 7)\n",
      "precision:\t83.3 +/- 37.3\n",
      "recall:\t\t71.4 +/- 45.2\n",
      "f1:\t\t100.0 +/- 0.0\n",
      "\n",
      "\n",
      "Label: H. Parasitoid (num abstracts: 1)\n",
      "precision:\t100.0 +/- 0.0\n",
      "recall:\t\t100.0 +/- 0.0\n",
      "f1:\t\t100.0 +/- 0.0\n",
      "\n",
      "\n",
      "Label: Nat. Enemy (num abstracts: 1)\n",
      "precision:\tnan +/- nan\n",
      "recall:\t\t0.0 +/- 0.0\n",
      "f1:\t\tnan +/- nan\n",
      "\n",
      "\n"
     ]
    },
    {
     "name": "stderr",
     "output_type": "stream",
     "text": [
      "/Users/daanscheepens/miniconda3/lib/python3.11/site-packages/numpy/core/fromnumeric.py:3504: RuntimeWarning: Mean of empty slice.\n",
      "  return _methods._mean(a, axis=axis, dtype=dtype,\n",
      "/Users/daanscheepens/miniconda3/lib/python3.11/site-packages/numpy/core/_methods.py:129: RuntimeWarning: invalid value encountered in scalar divide\n",
      "  ret = ret.dtype.type(ret / rcount)\n",
      "/Users/daanscheepens/miniconda3/lib/python3.11/site-packages/numpy/core/_methods.py:206: RuntimeWarning: Degrees of freedom <= 0 for slice\n",
      "  ret = _var(a, axis=axis, dtype=dtype, out=out, ddof=ddof,\n",
      "/Users/daanscheepens/miniconda3/lib/python3.11/site-packages/numpy/core/_methods.py:163: RuntimeWarning: invalid value encountered in divide\n",
      "  arrmean = um.true_divide(arrmean, div, out=arrmean,\n",
      "/Users/daanscheepens/miniconda3/lib/python3.11/site-packages/numpy/core/_methods.py:198: RuntimeWarning: invalid value encountered in scalar divide\n",
      "  ret = ret.dtype.type(ret / rcount)\n"
     ]
    },
    {
     "name": "stdout",
     "output_type": "stream",
     "text": [
      "Label: Prey/Host (num abstracts: 6)\n",
      "precision:\t60.0 +/- 49.0\n",
      "recall:\t\t50.0 +/- 50.0\n",
      "f1:\t\t100.0 +/- 0.0\n",
      "\n",
      "\n",
      "Label: Other (num abstracts: 5)\n",
      "precision:\t42.9 +/- 49.5\n",
      "recall:\t\t60.0 +/- 49.0\n",
      "f1:\t\t100.0 +/- 0.0\n",
      "\n",
      "\n",
      "Label: Unclear (num abstracts: 10)\n",
      "precision:\t50.0 +/- 50.0\n",
      "recall:\t\t20.0 +/- 40.0\n",
      "f1:\t\t100.0 +/- 0.0\n",
      "\n",
      "\n"
     ]
    }
   ],
   "source": [
    "# scores per abstract \n",
    "\n",
    "eids = np.unique(df1_test_['EID'])\n",
    "\n",
    "scores_per_abstract(roles1, roles2, eids, header='Role', labels=labels)"
   ]
  },
  {
   "cell_type": "markdown",
   "metadata": {
    "jp-MarkdownHeadingCollapsed": true
   },
   "source": [
    "# Exra: Pest Industry Types"
   ]
  },
  {
   "cell_type": "markdown",
   "metadata": {},
   "source": [
    "### Training set:"
   ]
  },
  {
   "cell_type": "code",
   "execution_count": 177,
   "metadata": {},
   "outputs": [
    {
     "name": "stdout",
     "output_type": "stream",
     "text": [
      "['' 'Agriculture' 'Forestry' 'Unclear']\n",
      "['' 'Agriculture' 'Agroecosystems' 'Environment' 'Forestry'\n",
      " 'Not mentioned']\n"
     ]
    }
   ],
   "source": [
    "x = df1_train_[['Associated With','EID']].copy()\n",
    "y = df2_train_[['Associated With','EID']].copy()\n",
    "\n",
    "print(np.unique(x['Associated With']))\n",
    "print(np.unique(y['Associated With']))"
   ]
  },
  {
   "cell_type": "code",
   "execution_count": 178,
   "metadata": {},
   "outputs": [],
   "source": [
    "for i in list(x.index): \n",
    "    if x.loc[i]['Associated With']=='Unclear':\n",
    "        x.loc[i]['Associated With']='Unknown\\nor unclear'\n",
    "    if x.loc[i]['Associated With']=='':\n",
    "        x.loc[i]['Associated With']='Unknown\\nor unclear'\n",
    "    if y.loc[i]['Associated With']=='Not mentioned':\n",
    "        y.loc[i]['Associated With']='Unknown\\nor unclear'\n",
    "    if y.loc[i]['Associated With']=='':\n",
    "        y.loc[i]['Associated With']='Unknown\\nor unclear'\n",
    "    if y.loc[i]['Associated With']=='Agroecosystems':\n",
    "        y.loc[i]['Associated With']='Agriculture'\n",
    "    if y.loc[i]['Associated With']=='Environment':\n",
    "        y.loc[i]['Associated With']='Unknown\\nor unclear'\n",
    "\n",
    "labels = ['Agriculture','Forestry','Unknown\\nor unclear']"
   ]
  },
  {
   "cell_type": "code",
   "execution_count": 179,
   "metadata": {},
   "outputs": [
    {
     "data": {
      "image/png": "[encoded data removed]",
      "text/plain": [
       "<Figure size 500x350 with 2 Axes>"
      ]
     },
     "metadata": {},
     "output_type": "display_data"
    },
    {
     "name": "stdout",
     "output_type": "stream",
     "text": [
      "\n",
      "\n",
      "                    precision    recall  f1-score   support\n",
      "\n",
      "       Agriculture      0.900     0.769     0.830       364\n",
      "          Forestry      0.974     0.916     0.944        83\n",
      "Unknown\n",
      "or unclear      0.624     0.821     0.709       184\n",
      "\n",
      "          accuracy                          0.803       631\n",
      "         macro avg      0.833     0.835     0.828       631\n",
      "      weighted avg      0.829     0.803     0.809       631\n",
      "\n"
     ]
    }
   ],
   "source": [
    "plot_confusion_matrix(x['Associated With'], y['Associated With'], labels=labels, xlab='GPT-4 Prediction', ylab='Manual Label', train_test='train',\n",
    "                      figsize=(5,3.5), xrot=0, yrot=45, filename='cm_industry')"
   ]
  },
  {
   "cell_type": "code",
   "execution_count": 180,
   "metadata": {},
   "outputs": [
    {
     "name": "stdout",
     "output_type": "stream",
     "text": [
      "Abstracts where mismatched pest type was likely to be hallucinated: \t2/9\n",
      "Corresponding to 7/33 species (0.212)\n",
      "\n",
      "Abstracts where mismatched pest type turned out to be correct: \t\t5/9\n",
      "Corresponding to 17/33 species (0.515)\n"
     ]
    }
   ],
   "source": [
    "# Comparison with Pest_Industry_Hallucinations.pdf: \n",
    "\n",
    "num_abstracts = 9\n",
    "num_species = 33\n",
    "\n",
    "print('Abstracts where mismatched pest type was likely to be hallucinated: \\t2/9')\n",
    "print('Corresponding to 7/33 species (%s)'%np.round(7/33,3))\n",
    "\n",
    "print('\\nAbstracts where mismatched pest type turned out to be correct: \\t\\t5/9')\n",
    "print('Corresponding to 17/33 species (%s)'%np.round(17/33,3))"
   ]
  },
  {
   "cell_type": "code",
   "execution_count": 181,
   "metadata": {},
   "outputs": [],
   "source": [
    "x[(x['Associated With']=='Unknown\\nor unclear')&(y['Associated With']=='Agriculture')&(x['EID']=='2-s2.0-0024939691')]='Agriculture'\n",
    "x[(x['Associated With']=='Unknown\\nor unclear')&(y['Associated With']=='Agriculture')&(x['EID']=='2-s2.0-0028993233')]='Agriculture'\n",
    "x[(x['Associated With']=='Unknown\\nor unclear')&(y['Associated With']=='Agriculture')&(x['EID']=='2-s2.0-62149141341')]='Agriculture'\n",
    "x[(x['Associated With']=='Unknown\\nor unclear')&(y['Associated With']=='Agriculture')&(x['EID']=='2-s2.0-85052445922')]='Agriculture'\n",
    "x[(x['Associated With']=='Unknown\\nor unclear')&(y['Associated With']=='Agriculture')&(x['EID']=='2-s2.0-0036212873')]='Agriculture'"
   ]
  },
  {
   "cell_type": "code",
   "execution_count": 182,
   "metadata": {},
   "outputs": [
    {
     "data": {
      "image/png": "[encoded data removed]",
      "text/plain": [
       "<Figure size 500x350 with 2 Axes>"
      ]
     },
     "metadata": {},
     "output_type": "display_data"
    },
    {
     "name": "stdout",
     "output_type": "stream",
     "text": [
      "\n",
      "\n",
      "                    precision    recall  f1-score   support\n",
      "\n",
      "       Agriculture      0.955     0.780     0.858       381\n",
      "          Forestry      0.974     0.916     0.944        83\n",
      "Unknown\n",
      "or unclear      0.624     0.904     0.738       167\n",
      "\n",
      "          accuracy                          0.830       631\n",
      "         macro avg      0.851     0.866     0.847       631\n",
      "      weighted avg      0.870     0.830     0.838       631\n",
      "\n"
     ]
    }
   ],
   "source": [
    "plot_confusion_matrix(x['Associated With'], y['Associated With'], labels=labels, xlab='GPT-4 Prediction', ylab='Manual Label', train_test='train',\n",
    "                      figsize=(5,3.5), xrot=0, filename='cm_industry')"
   ]
  },
  {
   "cell_type": "markdown",
   "metadata": {},
   "source": [
    "### Test set"
   ]
  },
  {
   "cell_type": "code",
   "execution_count": 183,
   "metadata": {},
   "outputs": [
    {
     "name": "stdout",
     "output_type": "stream",
     "text": [
      "['' 'Agriculture' 'Forestry' 'Freshwater']\n",
      "['' 'Agriculture' 'Aquaculture' 'Arabidopsis thaliana' 'Forestry'\n",
      " 'Livestock']\n"
     ]
    }
   ],
   "source": [
    "x = df1_test_[['Associated With','EID']].copy()\n",
    "y = df2_test_[['Associated With','EID']].copy()\n",
    "\n",
    "print(np.unique(x['Associated With']))\n",
    "print(np.unique(y['Associated With']))"
   ]
  },
  {
   "cell_type": "code",
   "execution_count": 184,
   "metadata": {},
   "outputs": [],
   "source": [
    "for i in list(x.index): \n",
    "    if x.loc[i]['Associated With']=='':\n",
    "        x.loc[i]['Associated With']='Unknown\\nor unclear'\n",
    "    if x.loc[i]['Associated With']=='Freshwater':\n",
    "        x.loc[i]['Associated With']='Unknown\\nor unclear'\n",
    "    if y.loc[i]['Associated With']=='':\n",
    "        y.loc[i]['Associated With']='Unknown\\nor unclear'\n",
    "    if y.loc[i]['Associated With']=='Livestock':\n",
    "        y.loc[i]['Associated With']='Agriculture'\n",
    "    if y.loc[i]['Associated With']=='Arabidopsis thaliana':\n",
    "        y.loc[i]['Associated With']='Unknown\\nor unclear'\n",
    "    if y.loc[i]['Associated With']=='Aquaculture':\n",
    "        y.loc[i]['Associated With']='Unknown\\nor unclear'\n",
    "\n",
    "labels = ['Agriculture','Forestry','Unknown\\nor unclear']"
   ]
  },
  {
   "cell_type": "code",
   "execution_count": 185,
   "metadata": {},
   "outputs": [
    {
     "data": {
      "image/png": "[encoded data removed]",
      "text/plain": [
       "<Figure size 500x350 with 2 Axes>"
      ]
     },
     "metadata": {},
     "output_type": "display_data"
    },
    {
     "name": "stdout",
     "output_type": "stream",
     "text": [
      "\n",
      "\n",
      "                    precision    recall  f1-score   support\n",
      "\n",
      "       Agriculture      0.845     0.736     0.787       148\n",
      "          Forestry      0.467     0.700     0.560        10\n",
      "Unknown\n",
      "or unclear      0.580     0.674     0.624        86\n",
      "\n",
      "          accuracy                          0.713       244\n",
      "         macro avg      0.631     0.704     0.657       244\n",
      "      weighted avg      0.736     0.713     0.720       244\n",
      "\n"
     ]
    }
   ],
   "source": [
    "plot_confusion_matrix(x['Associated With'], y['Associated With'], labels=labels, xlab='GPT-4 Prediction', ylab='Manual Label', train_test='test',\n",
    "                      figsize=(5,3.5), xrot=0, yrot=45, filename='cm_industry')"
   ]
  },
  {
   "cell_type": "code",
   "execution_count": 186,
   "metadata": {},
   "outputs": [
    {
     "name": "stdout",
     "output_type": "stream",
     "text": [
      "Abstracts where mismatched pest type was likely to be hallucinated: \t0/11\n",
      "Corresponding to 0/20 species (0.0)\n",
      "\n",
      "Abstracts where mismatched pest type turned out to be correct: \t\t11/11\n",
      "Corresponding to 20/20 species (1.0)\n"
     ]
    }
   ],
   "source": [
    "# Comparison with Pest_Industry_Hallucinations.pdf: \n",
    "\n",
    "num_abstracts = 11\n",
    "num_species = 20\n",
    "\n",
    "print('Abstracts where mismatched pest type was likely to be hallucinated: \\t0/11')\n",
    "print('Corresponding to 0/20 species (%s)'%np.round(0/20,3))\n",
    "\n",
    "print('\\nAbstracts where mismatched pest type turned out to be correct: \\t\\t11/11')\n",
    "print('Corresponding to 20/20 species (%s)'%np.round(20/20,3))"
   ]
  },
  {
   "cell_type": "code",
   "execution_count": 187,
   "metadata": {},
   "outputs": [],
   "source": [
    "x[(x['Associated With']=='Unknown\\nor unclear')&(y['Associated With']=='Agriculture')&(x['EID']=='2-s2.0-32544437705')]='Agriculture'\n",
    "x[(x['Associated With']=='Unknown\\nor unclear')&(y['Associated With']=='Agriculture')&(x['EID']=='2-s2.0-0242446679')]='Agriculture'\n",
    "x[(x['Associated With']=='Unknown\\nor unclear')&(y['Associated With']=='Agriculture')&(x['EID']=='2-s2.0-77956400174')]='Agriculture'\n",
    "x[(x['Associated With']=='Unknown\\nor unclear')&(y['Associated With']=='Agriculture')&(x['EID']=='2-s2.0-84857317215')]='Agriculture'\n",
    "x[(x['Associated With']=='Unknown\\nor unclear')&(y['Associated With']=='Forestry')&(x['EID']=='2-s2.0-0034551082')]='Forestry'\n",
    "x[(x['Associated With']=='Unknown\\nor unclear')&(y['Associated With']=='Forestry')&(x['EID']=='2-s2.0-0028560901')]='Forestry'\n",
    "x[(x['Associated With']=='Unknown\\nor unclear')&(y['Associated With']=='Agriculture')&(x['EID']=='2-s2.0-0033674416')]='Agriculture'\n",
    "x[(x['Associated With']=='Unknown\\nor unclear')&(y['Associated With']=='Agriculture')&(x['EID']=='2-s2.0-84937421125')]='Agriculture'\n",
    "x[(x['Associated With']=='Unknown\\nor unclear')&(y['Associated With']=='Agriculture')&(x['EID']=='2-s2.0-85044712561')]='Agriculture'\n",
    "x[(x['Associated With']=='Unknown\\nor unclear')&(y['Associated With']=='Agriculture')&(x['EID']=='2-s2.0-84946493859')]='Agriculture'\n",
    "x[(x['Associated With']=='Unknown\\nor unclear')&(y['Associated With']=='Agriculture')&(x['EID']=='2-s2.0-0035466062')]='Agriculture'"
   ]
  },
  {
   "cell_type": "code",
   "execution_count": 188,
   "metadata": {},
   "outputs": [
    {
     "data": {
      "image/png": "[encoded data removed]",
      "text/plain": [
       "<Figure size 500x350 with 2 Axes>"
      ]
     },
     "metadata": {},
     "output_type": "display_data"
    },
    {
     "name": "stdout",
     "output_type": "stream",
     "text": [
      "\n",
      "\n",
      "                    precision    recall  f1-score   support\n",
      "\n",
      "       Agriculture      0.953     0.759     0.845       162\n",
      "          Forestry      1.000     0.833     0.909        18\n",
      "Unknown\n",
      "or unclear      0.580     0.906     0.707        64\n",
      "\n",
      "          accuracy                          0.803       244\n",
      "         macro avg      0.844     0.833     0.821       244\n",
      "      weighted avg      0.859     0.803     0.814       244\n",
      "\n"
     ]
    }
   ],
   "source": [
    "plot_confusion_matrix(x['Associated With'], y['Associated With'], labels=labels, xlab='GPT-4 Prediction', ylab='Manual Label', train_test='test',\n",
    "                      figsize=(5,3.5), xrot=0, filename='cm_industry')"
   ]
  },
  {
   "cell_type": "markdown",
   "metadata": {
    "jp-MarkdownHeadingCollapsed": true
   },
   "source": [
    "# Locations"
   ]
  },
  {
   "cell_type": "markdown",
   "metadata": {},
   "source": [
    "## Training set "
   ]
  },
  {
   "cell_type": "code",
   "execution_count": 11,
   "metadata": {},
   "outputs": [
    {
     "name": "stdout",
     "output_type": "stream",
     "text": [
      "Index | EID                  | Manual label         | Prediction          \n",
      "    0 | 2-s2.0-0000101789    | Northern New Zealand | New Zealand         \n",
      "    1 | 2-s2.0-0000101789    | Northern New Zealand | New Zealand         \n",
      "   22 | 2-s2.0-0008215387    | Mundubbera, Nambour, and Brisbane in south-east Queensland | Mundubbera, Queensland\n",
      "   23 | 2-s2.0-0008215387    | Mundubbera, Nambour, and Brisbane in south-east Queensland | Mundubbera, Queensland\n",
      "   24 | 2-s2.0-0008215387    | Mundubbera, Nambour, and Brisbane in south-east Queensland | Mundubbera, Queensland\n",
      "   25 | 2-s2.0-0008215387    | Mundubbera, Nambour, and Brisbane in south-east Queensland | Mundubbera, Queensland\n",
      "   26 | 2-s2.0-0008215387    | Mundubbera, Nambour, and Brisbane in south-east Queensland | Mundubbera, Queensland\n",
      "   27 | 2-s2.0-0008215387    | Mundubbera, Nambour, and Brisbane in south-east Queensland | Mundubbera, Queensland\n",
      "   28 | 2-s2.0-0008215387    | Mundubbera, Nambour, and Brisbane in south-east Queensland | Mundubbera, Queensland\n",
      "   29 | 2-s2.0-0008215387    | Mundubbera, Nambour, and Brisbane in south-east Queensland | Mundubbera, Queensland\n",
      "   30 | 2-s2.0-0008215387    | Mundubbera, Nambour, and Brisbane in south-east Queensland | Mundubbera, Queensland\n",
      "   31 | 2-s2.0-0008215387    | Mundubbera, Nambour, and Brisbane in south-east Queensland | Mundubbera, Queensland\n",
      "   39 | 2-s2.0-0024939691    | South France, Australia | S France, Australia \n",
      "   45 | 2-s2.0-0027708505    |                      | Not mentioned       \n",
      "   46 | 2-s2.0-0027708505    |                      | Not mentioned       \n",
      "   65 | 2-s2.0-0028993233    | Manitoba, western Canada | Manitoba, Canada    \n",
      "   66 | 2-s2.0-0028993233    | Manitoba, western Canada | Manitoba, Canada    \n",
      "   67 | 2-s2.0-0028993233    | Manitoba, western Canada | Manitoba, Canada    \n",
      "   73 | 2-s2.0-0030618395    | Swiss Jura           |                     \n",
      "   77 | 2-s2.0-0030618427    |                      | Mesic lowland forest\n",
      "   78 | 2-s2.0-0030618427    |                      | Dry upland forest   \n",
      "   79 | 2-s2.0-0030618427    |                      | Dry upland forest, Mesic lowland forest\n",
      "  105 | 2-s2.0-0032794850    | Eastern Newfoundland | Newfoundland        \n",
      "  106 | 2-s2.0-0032794850    | Eastern Newfoundland, Mainland Canada | Newfoundland, mainland Canada\n",
      "  107 | 2-s2.0-0032794850    | Eastern Newfoundland, Europe | Newfoundland, Europe\n",
      "  108 | 2-s2.0-0032794850    | Eastern Newfoundland | Newfoundland        \n",
      "  109 | 2-s2.0-0032794850    | Eastern Newfoundland | Newfoundland        \n",
      "  110 | 2-s2.0-0032794850    | Eastern Newfoundland | Newfoundland        \n",
      "  111 | 2-s2.0-0032794850    | Eastern Newfoundland | Newfoundland        \n",
      "  131 | 2-s2.0-0034872127    |                      | Finland             \n",
      "  132 | 2-s2.0-0034872127    |                      | Finland             \n",
      "  133 | 2-s2.0-0034872127    |                      | Finland             \n",
      "  158 | 2-s2.0-0036226278    | France, Australia    | Australia, France   \n",
      "  159 | 2-s2.0-0036226278    | Mediterranean        | Mediterranean region\n",
      "  160 | 2-s2.0-0036226278    | France, Turkey, Australia | Australia, France, Turkey\n",
      "  196 | 2-s2.0-1842582919    | Central Florida      | Florida             \n",
      "  197 | 2-s2.0-1842582919    | Central Florida      | Florida             \n",
      "  198 | 2-s2.0-1842582919    | Central Florida      | Florida             \n",
      "  199 | 2-s2.0-1842582919    | Central Florida      | Florida             \n",
      "  200 | 2-s2.0-1842582919    | Central Florida      | Florida             \n",
      "  201 | 2-s2.0-1842582919    | Central Florida      | Florida             \n",
      "  202 | 2-s2.0-1842582919    | Central Florida      | Florida             \n",
      "  203 | 2-s2.0-1842582919    | Central Florida      | Florida             \n",
      "  204 | 2-s2.0-1842582919    | Central Florida      | Florida             \n",
      "  205 | 2-s2.0-1842582919    | Central Florida      | Florida             \n",
      "  206 | 2-s2.0-1842582919    | Central Florida      | Florida             \n",
      "  207 | 2-s2.0-19944366420   | Unguja and Pemba (Zanzibar) | Zanzibar            \n",
      "  208 | 2-s2.0-19944366420   | Unguja and Pemba (Zanzibar) | Zanzibar            \n",
      "  209 | 2-s2.0-19944366420   | Unguja and Pemba (Zanzibar) | Zanzibar            \n",
      "  210 | 2-s2.0-19944366420   | Unguja and Pemba (Zanzibar) | Zanzibar            \n",
      "  211 | 2-s2.0-19944366420   | Unguja and Pemba (Zanzibar) | Zanzibar            \n",
      "  212 | 2-s2.0-19944366420   | Unguja and Pemba (Zanzibar) | Zanzibar            \n",
      "  213 | 2-s2.0-19944366420   | Unguja and Pemba (Zanzibar) | Zanzibar            \n",
      "  214 | 2-s2.0-19944366420   | Unguja and Pemba (Zanzibar) | Zanzibar            \n",
      "  215 | 2-s2.0-19944366420   | Unguja and Pemba (Zanzibar) | Zanzibar            \n",
      "  218 | 2-s2.0-19944366420   | Unguja and Pemba (Zanzibar) | Zanzibar            \n",
      "  219 | 2-s2.0-19944366420   | Unguja and Pemba (Zanzibar) | Zanzibar            \n",
      "  220 | 2-s2.0-19944366420   | Unguja and Pemba (Zanzibar) | Zanzibar            \n",
      "  221 | 2-s2.0-19944366420   | Unguja and Pemba (Zanzibar) | Zanzibar            \n",
      "  222 | 2-s2.0-19944366420   | Unguja and Pemba (Zanzibar) | Zanzibar            \n",
      "  223 | 2-s2.0-19944366420   | Unguja and Pemba (Zanzibar) | Zanzibar            \n",
      "  224 | 2-s2.0-19944366420   | Unguja and Pemba (Zanzibar) | Zanzibar            \n",
      "  225 | 2-s2.0-19944366420   | Unguja and Pemba (Zanzibar) | Zanzibar            \n",
      "  226 | 2-s2.0-19944366420   | Unguja and Pemba (Zanzibar) | Zanzibar            \n",
      "  268 | 2-s2.0-77954115799   | Southwest Chiapas, Mexico | Chiapas, Mexico     \n",
      "  269 | 2-s2.0-77954115799   | Southwest Chiapas, Mexico | Chiapas, Mexico     \n",
      "  270 | 2-s2.0-77954115799   | Southwest Chiapas, Mexico | Chiapas, Mexico     \n",
      "  271 | 2-s2.0-77954115799   | Southwest Chiapas, Mexico | Chiapas, Mexico     \n",
      "  273 | 2-s2.0-77957191872   | Locality Miroč in East Serbia and in Forest unit Zlatica (National Park Djerdap) | Serbia              \n",
      "  274 | 2-s2.0-77957191872   | vicinity of Belgrade and in the wide area of National Park Djerdap | Serbia              \n",
      "  275 | 2-s2.0-77957191872   | East Serbia - locality Miroč | East Serbia         \n",
      "  325 | 2-s2.0-84874176682   | Shennongjia National Nature Reserve, Hubei Province, China | Shennongjia National Nature Reserve\n",
      "  326 | 2-s2.0-84874176682   | Shennongjia National Nature Reserve, Hubei Province, China | Shennongjia National Nature Reserve\n",
      "  327 | 2-s2.0-84874176682   | Shennongjia National Nature Reserve, Hubei Province, China | Shennongjia National Nature Reserve\n",
      "  328 | 2-s2.0-84874176682   | Shennongjia National Nature Reserve, Hubei Province, China | Shennongjia National Nature Reserve\n",
      "  329 | 2-s2.0-84874176682   | Shennongjia National Nature Reserve, Hubei Province, China | Shennongjia National Nature Reserve\n",
      "  330 | 2-s2.0-84874176682   | Shennongjia National Nature Reserve, Hubei Province, China | Shennongjia National Nature Reserve\n",
      "  331 | 2-s2.0-84874176682   | Shennongjia National Nature Reserve, Hubei Province, China | Shennongjia National Nature Reserve\n",
      "  332 | 2-s2.0-84874176682   | Shennongjia National Nature Reserve, Hubei Province, China | Shennongjia National Nature Reserve\n",
      "  333 | 2-s2.0-84874176682   | Shennongjia National Nature Reserve, Hubei Province, China | Shennongjia National Nature Reserve\n",
      "  334 | 2-s2.0-84877157394   | Brazil, Argentina, South Africa, Australia | Australia, Brazil, Argentina, South Africa\n",
      "  377 | 2-s2.0-84909652967   | Australia            | North Island        \n",
      "  378 | 2-s2.0-84909652967   | Australia            | North Island        \n",
      "  379 | 2-s2.0-84909652967   | Australia            | North Island        \n",
      "  380 | 2-s2.0-84909652967   | Australia            | North Island        \n",
      "  381 | 2-s2.0-84909652967   | Australia            | North Island        \n",
      "  392 | 2-s2.0-84963612982   | Europe               |                     \n",
      "  393 | 2-s2.0-84963612982   | Europe               |                     \n",
      "  394 | 2-s2.0-84963612982   | Europe               |                     \n",
      "  395 | 2-s2.0-84963612982   | Europe               |                     \n",
      "  396 | 2-s2.0-84963612982   | Europe               |                     \n",
      "  415 | 2-s2.0-85019767155   | Nearctic Region, Louisiana | Nearctic, Louisiana \n",
      "  419 | 2-s2.0-85019767155   | Nearctic Region, Louisiana, Texas | Nearctic, Louisiana, Texas\n",
      "  424 | 2-s2.0-85019767155   | Nearctic Region, Louisiana, Texas | Nearctic, Texas     \n",
      "  450 | 2-s2.0-85063564845   | Southern Georgia     | southern Georgia    \n",
      "  451 | 2-s2.0-85063564845   | Southern Georgia     | southern Georgia    \n",
      "  452 | 2-s2.0-85063564845   | Southern Georgia     | southern Georgia    \n",
      "  453 | 2-s2.0-85063564845   | Southern Georgia     | southern Georgia    \n",
      "  454 | 2-s2.0-85063564845   | Southern Georgia     | southern Georgia    \n",
      "  455 | 2-s2.0-85063564845   | Southern Georgia     | southern Georgia    \n",
      "  462 | 2-s2.0-85066828990   | Midwestern United States, Mexico, California and Europe | Midwestern United States, Mexico, California, Europe\n",
      "  463 | 2-s2.0-39149089336   | Tallaganda National Park, New South Wales and the Australian Capital Territory | Tallaganda National Park, ACT\n",
      "  464 | 2-s2.0-39149089336   | Tallaganda National Park, New South Wales and the Australian Capital Territory | Tallaganda National Park, ACT\n",
      "  465 | 2-s2.0-39149089336   | Tallaganda National Park, New South Wales and the Australian Capital Territory | Tallaganda National Park, ACT\n",
      "  466 | 2-s2.0-39149089336   | Tallaganda National Park, New South Wales and the Australian Capital Territory | Tallaganda National Park, ACT\n",
      "  467 | 2-s2.0-39149089336   | Tallaganda National Park, New South Wales and the Australian Capital Territory | Tallaganda National Park, ACT\n",
      "  468 | 2-s2.0-39149089336   | Tallaganda National Park, New South Wales and the Australian Capital Territory | Tallaganda National Park, ACT\n",
      "  469 | 2-s2.0-84957565933   | Marambaia Island, Rio de Janeiro, Brazil | Marambaia Island, Brazil\n",
      "  470 | 2-s2.0-84957565933   | Marambaia Island, Rio de Janeiro, Brazil | Marambaia Island, Brazil\n",
      "  471 | 2-s2.0-84957565933   | Marambaia Island, Rio de Janeiro, Brazil | Marambaia Island, Brazil\n",
      "  472 | 2-s2.0-84957565933   | Marambaia Island, Rio de Janeiro, Brazil | Marambaia Island, Brazil\n",
      "  473 | 2-s2.0-0043286364    | Bavaria, Germany     | Germany, specifically Bavaria.\n",
      "  516 | 2-s2.0-77952918346   | southern Punjab, Pakistan | Punjab, Pakistan    \n",
      "  517 | 2-s2.0-77952918346   | southern Punjab, Pakistan | Punjab, Pakistan    \n",
      "  518 | 2-s2.0-77952918346   | southern Punjab, Pakistan | Punjab, Pakistan    \n",
      "  519 | 2-s2.0-80052846716   | southern California  | Southern California \n",
      "  520 | 2-s2.0-80052846716   | southern California  | Southern California \n",
      "  521 | 2-s2.0-80052846716   | southern California  | Southern California \n",
      "  522 | 2-s2.0-80052846716   | southern California  | Southern California \n",
      "  534 | 2-s2.0-11244319902   | mid Lachlan Valley region of New South Wales, Australia | Mid Lachlan Valley, New South Wales, Australia\n",
      "  535 | 2-s2.0-11244319902   | mid Lachlan Valley region of New South Wales, Australia | Mid Lachlan Valley, New South Wales, Australia\n",
      "  536 | 2-s2.0-11244319902   | mid Lachlan Valley region of New South Wales, Australia | Mid Lachlan Valley, New South Wales, Australia\n",
      "  555 | 2-s2.0-73449107754   | eastern France       | Eastern of France   \n",
      "  556 | 2-s2.0-80053068062   | Kohgiloyeh and Boyerahmad Provinces, Iran | Kohgiloyeh and Boyerahmad\n",
      "  557 | 2-s2.0-80053068062   | Kohgiloyeh and Boyerahmad Provinces, Iran | Kohgiloyeh and Boyerahmad\n",
      "  558 | 2-s2.0-80053068062   | Kohgiloyeh and Boyerahmad Provinces, Iran | Kohgiloyeh and Boyerahmad\n",
      "  559 | 2-s2.0-80053068062   | Kohgiloyeh and Boyerahmad Provinces, Iran | Kohgiloyeh and Boyerahmad\n",
      "  560 | 2-s2.0-80053068062   | Kohgiloyeh and Boyerahmad Provinces, Iran | Kohgiloyeh and Boyerahmad\n",
      "  561 | 2-s2.0-80053068062   | Kohgiloyeh and Boyerahmad Provinces, Iran | Kohgiloyeh and Boyerahmad\n",
      "  562 | 2-s2.0-80053068062   | Kohgiloyeh and Boyerahmad Provinces, Iran | Kohgiloyeh and Boyerahmad\n",
      "  563 | 2-s2.0-80053068062   | Kohgiloyeh and Boyerahmad Provinces, Iran | Kohgiloyeh and Boyerahmad\n",
      "  564 | 2-s2.0-80053068062   | Kohgiloyeh and Boyerahmad Provinces, Iran | Kohgiloyeh and Boyerahmad\n",
      "  565 | 2-s2.0-80053068062   | Kohgiloyeh and Boyerahmad Provinces, Iran | Kohgiloyeh and Boyerahmad\n",
      "  566 | 2-s2.0-80053068062   | Kohgiloyeh and Boyerahmad Provinces, Iran | Kohgiloyeh and Boyerahmad\n",
      "  567 | 2-s2.0-80053068062   | Kohgiloyeh and Boyerahmad Provinces, Iran | Kohgiloyeh and Boyerahmad\n",
      "  568 | 2-s2.0-80053068062   | Kohgiloyeh and Boyerahmad Provinces, Iran | Kohgiloyeh and Boyerahmad\n",
      "  569 | 2-s2.0-80053068062   | Kohgiloyeh and Boyerahmad Provinces, Iran | Kohgiloyeh and Boyerahmad\n",
      "  570 | 2-s2.0-80053068062   | Kohgiloyeh and Boyerahmad Provinces, Iran | Kohgiloyeh and Boyerahmad\n",
      "  571 | 2-s2.0-80053068062   | Kohgiloyeh and Boyerahmad Provinces, Iran | Kohgiloyeh and Boyerahmad\n",
      "  572 | 2-s2.0-80053068062   | Kohgiloyeh and Boyerahmad Provinces, Iran | Kohgiloyeh and Boyerahmad\n",
      "  573 | 2-s2.0-80053068062   | Kohgiloyeh and Boyerahmad Provinces, Iran | Kohgiloyeh and Boyerahmad\n",
      "  577 | 2-s2.0-80053068062   | Kohgiloyeh and Boyerahmad Provinces, Iran | Kohgiloyeh and Boyerahmad\n",
      "  578 | 2-s2.0-80053068062   | Kohgiloyeh and Boyerahmad Provinces, Iran | Kohgiloyeh and Boyerahmad\n",
      "  592 | 2-s2.0-80053068062   | Kohgiloyeh and Boyerahmad Provinces, Iran | Kohgiloyeh and Boyerahmad\n",
      "  594 | 2-s2.0-84947703534   | California           | California, USA     \n",
      "  595 | 2-s2.0-85052445922   |                      | Not specified       \n",
      "  596 | 2-s2.0-85052445922   |                      | Not specified       \n",
      "  597 | 2-s2.0-85052445922   |                      | Not specified       \n",
      "  598 | 2-s2.0-85052445922   |                      | Not specified       \n",
      "  599 | 2-s2.0-85052445922   |                      | Not specified       \n",
      "  617 | 2-s2.0-79953163648   | North America        |                     \n",
      "  618 | 2-s2.0-79953163648   | North America        |                     \n",
      "  619 | 2-s2.0-79953163648   | North America        |                     \n",
      "  620 | 2-s2.0-42449107774   | western North America | Western North America\n",
      "  621 | 2-s2.0-42449107774   | western North America | Western North America\n",
      "  622 | 2-s2.0-42449107774   | western North America | Western North America\n"
     ]
    }
   ],
   "source": [
    "print('{:5s} | {:20s} | {:20s} | {:20s}'.format('Index','EID','Manual label','Prediction')) \n",
    "for _,(i,j) in enumerate(zip(df1_train_['Location'], df2_train_['Location'])): \n",
    "    if i!=j:\n",
    "        print('{:5} | {:20s} | {:20s} | {:20s}'.format(df1_train_.index[_],df1_train_['EID'].iloc[_],i,j))"
   ]
  },
  {
   "cell_type": "code",
   "execution_count": null,
   "metadata": {},
   "outputs": [],
   "source": [
    "# empty predictions: 73, 392,393,394,395,396, 617,618,619 (abstracts: 3)\n",
    "# insufficient predictions: 377,378,379,380,381 (abstracts: 1) "
   ]
  },
  {
   "cell_type": "code",
   "execution_count": 15,
   "metadata": {},
   "outputs": [
    {
     "name": "stdout",
     "output_type": "stream",
     "text": [
      "6 14 138 473 631\n"
     ]
    }
   ],
   "source": [
    "FP = [77,78,79,131,132,133] #checked manually\n",
    "FN = [73,377,378,379,380,381,392,393,394,395,396,617,618,619] #checked manually\n",
    "TN = df1_train_.index[(df1_train_['Location']==df2_train_['Location'])&(df1_train_['Location']=='')].tolist()\n",
    "TN += [45,46,595,596,597,598,599] #checked manually\n",
    "TP = df1_train_.index[(df1_train_['Location']==df2_train_['Location'])&(df1_train_['Location']!='')].tolist()\n",
    "TP += list(set(df1_train_.index[(df1_train_['Location']!=df2_train_['Location'])].tolist())-set(FP)-set(FN)-set(TN))\n",
    "\n",
    "print(len(FP), len(FN), len(TN), len(TP), len(FP)+len(FN)+len(TN)+len(TP))"
   ]
  },
  {
   "cell_type": "code",
   "execution_count": 65,
   "metadata": {},
   "outputs": [
    {
     "data": {
      "text/plain": [
       "(array(['Location', 'No Location'], dtype=object),\n",
       " array(['Location', 'No Location'], dtype=object))"
      ]
     },
     "execution_count": 65,
     "metadata": {},
     "output_type": "execute_result"
    }
   ],
   "source": [
    "a1 = pd.DataFrame(np.zeros(len(df1_train_)), columns = ['Location'], index=df1_train_.index, dtype='str')\n",
    "a2 = pd.DataFrame(np.zeros(len(df1_train_)), columns = ['Location'], index=df1_train_.index, dtype='str')\n",
    "\n",
    "for i in FP: \n",
    "    a1.loc[i] = 'No Location'\n",
    "    a2.loc[i] = 'Location'\n",
    "for i in FN: \n",
    "    a1.loc[i] = 'Location'\n",
    "    a2.loc[i] = 'No Location'\n",
    "for i in TP: \n",
    "    a1.loc[i] = 'Location'\n",
    "    a2.loc[i] = 'Location'\n",
    "for i in TN:\n",
    "    a1.loc[i] = 'No Location'\n",
    "    a2.loc[i] = 'No Location'\n",
    "\n",
    "np.unique(a1), np.unique(a2)"
   ]
  },
  {
   "cell_type": "code",
   "execution_count": 69,
   "metadata": {},
   "outputs": [],
   "source": [
    "a1['EID'] = df1_train_['EID']\n",
    "a2['EID'] = df2_train_['EID']"
   ]
  },
  {
   "cell_type": "code",
   "execution_count": 70,
   "metadata": {},
   "outputs": [
    {
     "data": {
      "image/png": "[encoded data removed]",
      "text/plain": [
       "<Figure size 400x300 with 2 Axes>"
      ]
     },
     "metadata": {},
     "output_type": "display_data"
    },
    {
     "name": "stdout",
     "output_type": "stream",
     "text": [
      "\n",
      "\n",
      "              precision    recall  f1-score   support\n",
      "\n",
      "    Location      0.987     0.971     0.979       487\n",
      " No Location      0.908     0.958     0.932       144\n",
      "\n",
      "    accuracy                          0.968       631\n",
      "   macro avg      0.948     0.965     0.956       631\n",
      "weighted avg      0.969     0.968     0.969       631\n",
      "\n"
     ]
    }
   ],
   "source": [
    "plot_confusion_matrix(a1['Location'], a2['Location'], labels=['Location','No Location'], xlab='GPT-4 Prediction', ylab='Manual Label', train_test='train',\n",
    "                      figsize=(4,3), xrot=0, yrot=90, filename='cm_locations')"
   ]
  },
  {
   "cell_type": "code",
   "execution_count": 71,
   "metadata": {},
   "outputs": [
    {
     "name": "stdout",
     "output_type": "stream",
     "text": [
      "Label: Location (num abstracts: 67)\n",
      "precision:\t97.1 +/- 16.9\n",
      "recall:\t\t96.3 +/- 16.6\n",
      "f1:\t\t98.3 +/- 9.4\n",
      "\n",
      "\n",
      "Label: No Location (num abstracts: 34)\n",
      "precision:\t88.9 +/- 31.4\n",
      "recall:\t\t94.1 +/- 23.5\n",
      "f1:\t\t100.0 +/- 0.0\n",
      "\n",
      "\n"
     ]
    }
   ],
   "source": [
    "# scores per abstract \n",
    "\n",
    "eids = np.unique(df1_train_['EID'])\n",
    "\n",
    "scores_per_abstract(a1, a2, eids, header='Location', labels=['Location','No Location'])"
   ]
  },
  {
   "cell_type": "markdown",
   "metadata": {},
   "source": [
    "## Test set "
   ]
  },
  {
   "cell_type": "code",
   "execution_count": 72,
   "metadata": {
    "scrolled": true
   },
   "outputs": [
    {
     "name": "stdout",
     "output_type": "stream",
     "text": [
      "Index | EID                  | Manual label         | Prediction          \n",
      "   12 | 2-s2.0-84994091578   |                      | China               \n",
      "   26 | 2-s2.0-0028973895    | Souss Valley of Morocco | Souss Valley, Morocco\n",
      "   27 | 2-s2.0-0028973895    | Souss Valley of Morocco | Souss Valley, Morocco\n",
      "   28 | 2-s2.0-0028973895    | Souss Valley of Morocco | Souss Valley, Morocco\n",
      "   33 | 2-s2.0-84903955217   | Embrapa Algodão in Campina Grande, Paraíba | Campina Grande, Paraíba\n",
      "   42 | 2-s2.0-77956400174   | northwestern Colorado, northeastern Utah, and southwestern Wyoming | Northwestern Colorado, Northeastern Utah, Southwestern Wyoming\n",
      "   48 | 2-s2.0-79960479277   | La Tupia field station (Candelaria, Valle), Colombia | Colombia, La Tupia field station\n",
      "   49 | 2-s2.0-79960479277   | La Tupia field station (Candelaria, Valle), Colombia | Colombia, La Tupia field station\n",
      "   50 | 2-s2.0-79960479277   | La Tupia field station (Candelaria, Valle), Colombia | Colombia, La Tupia field station\n",
      "   51 | 2-s2.0-79960479277   | La Tupia field station (Candelaria, Valle), Colombia | Colombia, La Tupia field station\n",
      "   69 | 2-s2.0-85019689109   | South of Brazil      | South Brazil        \n",
      "   70 | 2-s2.0-85019689109   | South of Brazil      | South Brazil        \n",
      "   72 | 2-s2.0-77955847988   | Central Europe       | Central Europe, Canada\n",
      "   73 | 2-s2.0-77955847988   | Central Europe       | Central Europe, Canada\n",
      "   75 | 2-s2.0-65649092177   | Central Europe       |                     \n",
      "   76 | 2-s2.0-65649092177   | Central Europe       |                     \n",
      "   77 | 2-s2.0-65649092177   | Central Europe       |                     \n",
      "   78 | 2-s2.0-65649092177   | Central Europe       |                     \n",
      "   79 | 2-s2.0-65649092177   | Central Europe       |                     \n",
      "   88 | 2-s2.0-79958759901   | northern Maine       | Northern Maine      \n",
      "   89 | 2-s2.0-79958759901   | northern Maine       | Northern Maine      \n",
      "   90 | 2-s2.0-79958759901   | northern Maine       | Northern Maine      \n",
      "   91 | 2-s2.0-0031154434    | Ross River reservoir, northern Australia | Ross River reservoir, Australia\n",
      "   92 | 2-s2.0-0031154434    | Ross River reservoir, northern Australia | Ross River reservoir, Australia\n",
      "   93 | 2-s2.0-0031154434    | Ross River reservoir, northern Australia | Ross River reservoir, Australia\n",
      "   94 | 2-s2.0-84927945519   | Yinchuan Plain of Northwest China | Yinchuan Plain, China\n",
      "   95 | 2-s2.0-84927945519   | Yinchuan Plain of Northwest China | Yinchuan Plain, China\n",
      "   96 | 2-s2.0-84927945519   | Yinchuan Plain of Northwest China | Yinchuan Plain, China\n",
      "   97 | 2-s2.0-84927945519   | Yinchuan Plain of Northwest China | Yinchuan Plain, China\n",
      "   98 | 2-s2.0-84927945519   | Yinchuan Plain of Northwest China | Yinchuan Plain, China\n",
      "   99 | 2-s2.0-84927945519   | Yinchuan Plain of Northwest China | Yinchuan Plain, China\n",
      "  100 | 2-s2.0-84927945519   | Yinchuan Plain of Northwest China | Yinchuan Plain, China\n",
      "  101 | 2-s2.0-84927945519   | Yinchuan Plain of Northwest China | Yinchuan Plain, China\n",
      "  102 | 2-s2.0-84927945519   | Yinchuan Plain of Northwest China | Yinchuan Plain, China\n",
      "  103 | 2-s2.0-84882690183   | Saudi Arabia         | Al Ghowaybah, Saudi Arabia\n",
      "  104 | 2-s2.0-84951741592   | native range (Caucasus Mountains, Georgia) and an invaded area (Massachusetts, USA) | Caucasus Mountains, Georgia; Massachusetts, USA\n",
      "  106 | 2-s2.0-85028697981   | Southwestern United States | Arizona; Nevada; Texas\n",
      "  107 | 2-s2.0-84939417542   | North America        |                     \n",
      "  110 | 2-s2.0-0030739264    | New Zealand          | South America, New Zealand\n",
      "  121 | 2-s2.0-0028560901    | Dayi, Sichuan Province, China | Dayi, Sichuan Province\n",
      "  122 | 2-s2.0-0028560901    | Dayi, Sichuan Province, China | Dayi, Sichuan Province\n",
      "  123 | 2-s2.0-0028560901    | Dayi, Sichuan Province, China | Dayi, Sichuan Province\n",
      "  124 | 2-s2.0-0028560901    | Dayi, Sichuan Province, China | Dayi, Sichuan Province\n",
      "  125 | 2-s2.0-0028560901    | Dayi, Sichuan Province, China | Dayi, Sichuan Province\n",
      "  126 | 2-s2.0-0028560901    | Dayi, Sichuan Province, China | Dayi, Sichuan Province\n",
      "  127 | 2-s2.0-0028560901    | Dayi, Sichuan Province, China | Dayi, Sichuan Province\n",
      "  128 | 2-s2.0-0033674416    | New South Wales (Tullibigeal, Ungarie and Lake Cargelligo) | New South Wales, Tullibigeal, Ungarie, Lake Cargelligo\n",
      "  131 | 2-s2.0-84898403634   | Kansas, Oklahoma, and Texas | Kansas, Oklahoma, Texas\n",
      "  132 | 2-s2.0-84898403634   | Kansas, Oklahoma, and Texas | Kansas, Oklahoma, Texas\n",
      "  151 | 2-s2.0-84947029119   | South Spain          | Southern Spain      \n",
      "  152 | 2-s2.0-84947029119   | South Spain          | Southern Spain      \n",
      "  153 | 2-s2.0-84947029119   | South Spain          | Southern Spain      \n",
      "  155 | 2-s2.0-0001065549    | northern Wisconsin   | Northern Wisconsin  \n",
      "  156 | 2-s2.0-0001065549    | northern Wisconsin   | Northern Wisconsin  \n",
      "  157 | 2-s2.0-0001065549    | northern Wisconsin   | Northern Wisconsin  \n",
      "  158 | 2-s2.0-0001065549    | northern Wisconsin   | Northern Wisconsin  \n",
      "  159 | 2-s2.0-0001065549    | northern Wisconsin   | Northern Wisconsin  \n",
      "  160 | 2-s2.0-84884474270   | Chiapas, Mexico      | Coast of Chiapas, Mexico\n",
      "  161 | 2-s2.0-84867527578   |                      | Southern end of Karnataka, India; eastern end of Ninh Thuan, Vietnam; West Timor, Indonesia\n",
      "  166 | 2-s2.0-7544251732    | U. S. Department of Agriculture, Agricultural Research Service, National Clonal Germplasm Repository-Corvallis (NCGR) | U. S. Department of Agriculture, Agricultural Research Service, National Clonal Germplasm Repository-Corvallis\n",
      "  183 | 2-s2.0-3242677044    | southern interior of British Columbia, Canada | British Columbia, Canada\n",
      "  184 | 2-s2.0-3242677044    | southern interior of British Columbia, Canada | British Columbia, Canada\n",
      "  185 | 2-s2.0-3242677044    | southern interior of British Columbia, Canada | British Columbia, Canada\n",
      "  186 | 2-s2.0-3242677044    | southern interior of British Columbia, Canada | British Columbia, Canada\n",
      "  187 | 2-s2.0-3242677044    | southern interior of British Columbia, Canada | British Columbia, Canada\n",
      "  188 | 2-s2.0-3242677044    | southern interior of British Columbia, Canada | British Columbia, Canada\n",
      "  189 | 2-s2.0-3242677044    | southern interior of British Columbia, Canada | British Columbia, Canada\n",
      "  190 | 2-s2.0-3242677044    | southern interior of British Columbia, Canada | British Columbia, Canada\n",
      "  191 | 2-s2.0-3242677044    | southern interior of British Columbia, Canada | British Columbia, Canada\n",
      "  192 | 2-s2.0-3242677044    | southern interior of British Columbia, Canada | British Columbia, Canada\n",
      "  193 | 2-s2.0-3242677044    | southern interior of British Columbia, Canada | British Columbia, Canada\n",
      "  206 | 2-s2.0-84921631255   | Europe and North America |                     \n",
      "  211 | 2-s2.0-0024639644    | central New York state, USA | Central New York, USA\n",
      "  212 | 2-s2.0-0024639644    | central New York state, USA | Central New York, USA\n",
      "  213 | 2-s2.0-0024639644    | central New York state, USA | Central New York, USA\n",
      "  217 | 2-s2.0-42449124573   | the Lower Fraser Valley region of southwest Canada | Lower Fraser Valley \n",
      "  220 | 2-s2.0-80055023371   | São Francisco de Assis, Cruz Alta and Lagoa Vermelha, RS, Brazil | São Francisco de Assis, Cruz Alta, Lagoa Vermelha, RS\n",
      "  231 | 2-s2.0-0031105231    | eastern North Carolina | Eastern North Carolina\n",
      "  232 | 2-s2.0-0027132805    | Mediterranean coast of Turkey | Turkey              \n",
      "  233 | 2-s2.0-84946493859   | Mediterranean        | Mediterranean Region\n",
      "  234 | 2-s2.0-84946493859   | Mediterranean        | Mediterranean Region\n",
      "  236 | 2-s2.0-0035466062    | Port Stephens, NSW, Australia. | Port Stephens, NSW, Australia\n",
      "  239 | 2-s2.0-0031950831    |                      | Experimental Greenhouses\n",
      "  240 | 2-s2.0-0031950831    |                      | Experimental Greenhouses\n"
     ]
    }
   ],
   "source": [
    "print('{:5s} | {:20s} | {:20s} | {:20s}'.format('Index','EID','Manual label','Prediction')) \n",
    "for _,(i,j) in enumerate(zip(df1_test_['Location'], df2_test_['Location'])): \n",
    "    if i!=j:\n",
    "        print('{:5} | {:20s} | {:20s} | {:20s}'.format(df1_test_.index[_],df1_test_['EID'].iloc[_],i,j))"
   ]
  },
  {
   "cell_type": "code",
   "execution_count": 73,
   "metadata": {},
   "outputs": [
    {
     "data": {
      "text/plain": [
       "(7, 7, 88, 142, 244)"
      ]
     },
     "execution_count": 73,
     "metadata": {},
     "output_type": "execute_result"
    }
   ],
   "source": [
    "FP = [12, 72, 73, 110, 161, 239, 240] #checked manually\n",
    "FN = [75, 76, 77, 78, 79, 107, 206] #checked manually\n",
    "TN = df1_test_.index[(df1_test_['Location']==df2_test_['Location'])&(df1_test_['Location']=='')].tolist()\n",
    "TP = df1_test_.index[(df1_test_['Location']==df2_test_['Location'])&(df1_test_['Location']!='')].tolist()\n",
    "TP += list(set(df1_test_.index[(df1_test_['Location']!=df2_test_['Location'])].tolist())-set(FP)-set(FN))\n",
    "\n",
    "len(FP), len(FN), len(TN), len(TP), len(FP)+len(FN)+len(TN)+len(TP)"
   ]
  },
  {
   "cell_type": "code",
   "execution_count": 79,
   "metadata": {},
   "outputs": [
    {
     "data": {
      "text/plain": [
       "(array(['Location', 'No Location'], dtype=object),\n",
       " array(['Location', 'No Location'], dtype=object))"
      ]
     },
     "execution_count": 79,
     "metadata": {},
     "output_type": "execute_result"
    }
   ],
   "source": [
    "a1 = pd.DataFrame(np.zeros(len(df1_test_)), columns=['Location'], index=df1_test_.index,dtype='str')\n",
    "a2 = pd.DataFrame(np.zeros(len(df1_test_)), columns=['Location'], index=df1_test_.index,dtype='str')\n",
    "\n",
    "for i in FP: \n",
    "    a1.loc[i] = 'No Location'\n",
    "    a2.loc[i] = 'Location'\n",
    "for i in FN: \n",
    "    a1.loc[i] = 'Location'\n",
    "    a2.loc[i] = 'No Location'\n",
    "for i in TP: \n",
    "    a1.loc[i] = 'Location'\n",
    "    a2.loc[i] = 'Location'\n",
    "for i in TN:\n",
    "    a1.loc[i] = 'No Location'\n",
    "    a2.loc[i] = 'No Location'\n",
    "\n",
    "np.unique(a1), np.unique(a2)"
   ]
  },
  {
   "cell_type": "code",
   "execution_count": 83,
   "metadata": {},
   "outputs": [],
   "source": [
    "a1['EID'] = df1_test_['EID']\n",
    "a2['EID'] = df2_test_['EID']"
   ]
  },
  {
   "cell_type": "code",
   "execution_count": 75,
   "metadata": {},
   "outputs": [
    {
     "data": {
      "image/png": "[encoded data removed]",
      "text/plain": [
       "<Figure size 400x300 with 2 Axes>"
      ]
     },
     "metadata": {},
     "output_type": "display_data"
    },
    {
     "name": "stdout",
     "output_type": "stream",
     "text": [
      "\n",
      "\n",
      "              precision    recall  f1-score   support\n",
      "\n",
      "    Location      0.953     0.953     0.953       149\n",
      " No Location      0.926     0.926     0.926        95\n",
      "\n",
      "    accuracy                          0.943       244\n",
      "   macro avg      0.940     0.940     0.940       244\n",
      "weighted avg      0.943     0.943     0.943       244\n",
      "\n"
     ]
    }
   ],
   "source": [
    "plot_confusion_matrix(a1['Location'], a2['Location'], labels=['Location','No Location'], xlab='GPT-4 Prediction', ylab='Manual Label', train_test='test',\n",
    "                      figsize=(4,3), xrot=0, yrot=90, filename='cm_locations')"
   ]
  },
  {
   "cell_type": "code",
   "execution_count": 84,
   "metadata": {},
   "outputs": [
    {
     "name": "stdout",
     "output_type": "stream",
     "text": [
      "Label: Location (num abstracts: 54)\n",
      "precision:\t92.1 +/- 26.1\n",
      "recall:\t\t96.3 +/- 17.5\n",
      "f1:\t\t97.9 +/- 10.7\n",
      "\n",
      "\n",
      "Label: No Location (num abstracts: 46)\n",
      "precision:\t93.2 +/- 25.2\n",
      "recall:\t\t89.1 +/- 31.1\n",
      "f1:\t\t100.0 +/- 0.0\n",
      "\n",
      "\n"
     ]
    }
   ],
   "source": [
    "# scores per abstract \n",
    "\n",
    "eids = np.unique(df1_test_['EID'])\n",
    "\n",
    "scores_per_abstract(a1, a2, eids, header='Location', labels=['Location','No Location'])"
   ]
  },
  {
   "cell_type": "markdown",
   "metadata": {},
   "source": [
    "## Training set"
   ]
  },
  {
   "cell_type": "code",
   "execution_count": 8,
   "metadata": {},
   "outputs": [],
   "source": [
    "y_true_train = np.array(df1_train_['Category'])\n",
    "y_true_train = np.array([str(x) for x in y_true_train])\n",
    "\n",
    "y_pred_train = np.array(df2_train_['Category'])\n",
    "y_pred_train = np.array([str(x) for x in y_pred_train])"
   ]
  },
  {
   "cell_type": "code",
   "execution_count": 9,
   "metadata": {},
   "outputs": [
    {
     "data": {
      "image/png": "[encoded data removed]",
      "text/plain": [
       "<Figure size 600x400 with 2 Axes>"
      ]
     },
     "metadata": {},
     "output_type": "display_data"
    },
    {
     "name": "stdout",
     "output_type": "stream",
     "text": [
      "\n",
      "\n",
      "              precision    recall  f1-score   support\n",
      "\n",
      "          1a      0.930     0.918     0.924       231\n",
      "          1b      0.896     0.683     0.775       101\n",
      "           2      0.562     0.621     0.590        87\n",
      "           3      0.922     1.000     0.959       212\n",
      "\n",
      "    accuracy                          0.867       631\n",
      "   macro avg      0.828     0.805     0.812       631\n",
      "weighted avg      0.871     0.867     0.866       631\n",
      "\n"
     ]
    }
   ],
   "source": [
    "plot_confusion_matrix(y_true_train, y_pred_train, labels=['1a','1b','2','3'],xlab='GPT-4 Output',ylab='Manual Data',train_test='train',\n",
    "                      figsize=(6,4),xrot=0,filename='cm_classifications')"
   ]
  },
  {
   "cell_type": "code",
   "execution_count": 15,
   "metadata": {},
   "outputs": [
    {
     "name": "stdout",
     "output_type": "stream",
     "text": [
      "Label: 1a (num abstracts: 54)\n",
      "precision:\t89.7 +/- 30.5\n",
      "recall:\t\t92.3 +/- 23.5\n",
      "f1:\t\t97.0 +/- 12.2\n",
      "Label: 1b (num abstracts: 16)\n",
      "precision:\t68.8 +/- 46.4\n",
      "recall:\t\t62.1 +/- 44.7\n",
      "f1:\t\t93.6 +/- 12.7\n",
      "Label: 2 (num abstracts: 22)\n",
      "precision:\t59.7 +/- 48.6\n",
      "recall:\t\t72.3 +/- 42.6\n",
      "f1:\t\t90.7 +/- 22.5\n",
      "Label: 3 (num abstracts: 84)\n",
      "precision:\t97.5 +/- 13.5\n",
      "recall:\t\t100.0 +/- 0.0\n",
      "f1:\t\t99.1 +/- 5.9\n"
     ]
    }
   ],
   "source": [
    "# scores per abstract: \n",
    "\n",
    "arr1 = df1_train_[['Category','EID']].copy()\n",
    "arr2 = df2_train_[['Category','EID']].copy()\n",
    "\n",
    "eids = np.unique(df1_train_['EID'])\n",
    "\n",
    "scores_per_abstract(arr1, arr2, eids, header='Category', labels=['1a','1b','2','3'])"
   ]
  },
  {
   "cell_type": "markdown",
   "metadata": {},
   "source": [
    "## Test set "
   ]
  },
  {
   "cell_type": "code",
   "execution_count": 17,
   "metadata": {},
   "outputs": [],
   "source": [
    "y_true_test = np.array(df1_test_['Category'])\n",
    "y_true_test = np.array([str(x) for x in y_true_test])\n",
    "\n",
    "y_pred_test = np.array(df2_test_['Category'])\n",
    "y_pred_test = np.array([str(x) for x in y_pred_test])"
   ]
  },
  {
   "cell_type": "code",
   "execution_count": 18,
   "metadata": {},
   "outputs": [
    {
     "data": {
      "image/png": "[encoded data removed]",
      "text/plain": [
       "<Figure size 600x400 with 2 Axes>"
      ]
     },
     "metadata": {},
     "output_type": "display_data"
    },
    {
     "name": "stdout",
     "output_type": "stream",
     "text": [
      "\n",
      "\n",
      "              precision    recall  f1-score   support\n",
      "\n",
      "          1a      0.753     0.932     0.833        59\n",
      "          1b      0.500     0.526     0.513        19\n",
      "           2      0.765     0.371     0.500        35\n",
      "           3      0.955     0.977     0.966       131\n",
      "\n",
      "    accuracy                          0.844       244\n",
      "   macro avg      0.743     0.702     0.703       244\n",
      "weighted avg      0.844     0.844     0.832       244\n",
      "\n"
     ]
    }
   ],
   "source": [
    "plot_confusion_matrix(y_true_test, y_pred_test, labels=['1a','1b','2','3'],xlab='GPT-4 Output',ylab='Manual Data',train_test='test',\n",
    "                      figsize=(6,4),xrot=0,filename='cm_classifications')"
   ]
  },
  {
   "cell_type": "code",
   "execution_count": 19,
   "metadata": {},
   "outputs": [
    {
     "name": "stdout",
     "output_type": "stream",
     "text": [
      "Label: 1a (num abstracts: 30)\n",
      "precision:\t78.3 +/- 40.7\n",
      "recall:\t\t93.1 +/- 20.6\n",
      "f1:\t\t95.4 +/- 13.8\n",
      "\n",
      "\n",
      "Label: 1b (num abstracts: 9)\n",
      "precision:\t55.6 +/- 49.7\n",
      "recall:\t\t55.6 +/- 49.7\n",
      "f1:\t\t100.0 +/- 0.0\n",
      "\n",
      "\n",
      "Label: 2 (num abstracts: 12)\n",
      "precision:\t56.2 +/- 46.4\n",
      "recall:\t\t34.7 +/- 46.4\n",
      "f1:\t\t79.0 +/- 28.3\n",
      "\n",
      "\n",
      "Label: 3 (num abstracts: 92)\n",
      "precision:\t98.5 +/- 11.0\n",
      "recall:\t\t97.6 +/- 14.7\n",
      "f1:\t\t99.7 +/- 2.3\n",
      "\n",
      "\n"
     ]
    }
   ],
   "source": [
    "# scores per abstract: \n",
    "\n",
    "arr1 = df1_test_[['Category','EID']].copy()\n",
    "arr2 = df2_test_[['Category','EID']].copy()\n",
    "\n",
    "eids = np.unique(df1_test_['EID'])\n",
    "\n",
    "scores_per_abstract(arr1, arr2, eids, header='Category', labels=['1a','1b','2','3'])"
   ]
  },
  {
   "cell_type": "markdown",
   "metadata": {
    "jp-MarkdownHeadingCollapsed": true
   },
   "source": [
    "# Abstract Lengths"
   ]
  },
  {
   "cell_type": "code",
   "execution_count": 36,
   "metadata": {},
   "outputs": [],
   "source": [
    "df_raw_train = pd.read_excel(\"data-sets/training_set_raw_output.xlsx\",\n",
    "                  true_values='Yes',\n",
    "                  false_values='No',\n",
    "                  sheet_name=0)\n",
    "\n",
    "df_train = pd.read_excel(\"data-sets/training_set.xlsx\",\n",
    "                  true_values='Yes',\n",
    "                  false_values='No',\n",
    "                  sheet_name=0)"
   ]
  },
  {
   "cell_type": "code",
   "execution_count": 38,
   "metadata": {},
   "outputs": [
    {
     "data": {
      "text/html": [
       "<div>\n",
       "<style scoped>\n",
       "    .dataframe tbody tr th:only-of-type {\n",
       "        vertical-align: middle;\n",
       "    }\n",
       "\n",
       "    .dataframe tbody tr th {\n",
       "        vertical-align: top;\n",
       "    }\n",
       "\n",
       "    .dataframe thead th {\n",
       "        text-align: right;\n",
       "    }\n",
       "</style>\n",
       "<table border=\"1\" class=\"dataframe\">\n",
       "  <thead>\n",
       "    <tr style=\"text-align: right;\">\n",
       "      <th></th>\n",
       "      <th>EID</th>\n",
       "      <th>n</th>\n",
       "    </tr>\n",
       "  </thead>\n",
       "  <tbody>\n",
       "    <tr>\n",
       "      <th>48</th>\n",
       "      <td>2-s2.0-33845901783</td>\n",
       "      <td>18</td>\n",
       "    </tr>\n",
       "    <tr>\n",
       "      <th>73</th>\n",
       "      <td>2-s2.0-84881063573</td>\n",
       "      <td>21</td>\n",
       "    </tr>\n",
       "    <tr>\n",
       "      <th>63</th>\n",
       "      <td>2-s2.0-77957191872</td>\n",
       "      <td>22</td>\n",
       "    </tr>\n",
       "    <tr>\n",
       "      <th>43</th>\n",
       "      <td>2-s2.0-19944366420</td>\n",
       "      <td>25</td>\n",
       "    </tr>\n",
       "    <tr>\n",
       "      <th>68</th>\n",
       "      <td>2-s2.0-80053068062</td>\n",
       "      <td>58</td>\n",
       "    </tr>\n",
       "  </tbody>\n",
       "</table>\n",
       "</div>"
      ],
      "text/plain": [
       "                   EID   n\n",
       "48  2-s2.0-33845901783  18\n",
       "73  2-s2.0-84881063573  21\n",
       "63  2-s2.0-77957191872  22\n",
       "43  2-s2.0-19944366420  25\n",
       "68  2-s2.0-80053068062  58"
      ]
     },
     "execution_count": 38,
     "metadata": {},
     "output_type": "execute_result"
    }
   ],
   "source": [
    "# raw GPT-4 output: \n",
    "\n",
    "num_entries = pd.DataFrame(columns=['EID','n'])\n",
    "\n",
    "for i, eid in enumerate(np.unique(df_raw_train['EID'])):\n",
    "    subset = df_raw_train[df_raw_train['EID']==eid]\n",
    "    num_entries.loc[i] = [eid,len(subset)]\n",
    "\n",
    "num_entries = num_entries.sort_values('n')\n",
    "\n",
    "num_entries[-5:]\n",
    "\n",
    "# 2-s2.0-80053068062 -> 58 rows (longest)\n",
    "# 2-s2.0-19944366420 -> 25 rows (2nd longest)"
   ]
  },
  {
   "cell_type": "code",
   "execution_count": 37,
   "metadata": {},
   "outputs": [
    {
     "data": {
      "text/html": [
       "<div>\n",
       "<style scoped>\n",
       "    .dataframe tbody tr th:only-of-type {\n",
       "        vertical-align: middle;\n",
       "    }\n",
       "\n",
       "    .dataframe tbody tr th {\n",
       "        vertical-align: top;\n",
       "    }\n",
       "\n",
       "    .dataframe thead th {\n",
       "        text-align: right;\n",
       "    }\n",
       "</style>\n",
       "<table border=\"1\" class=\"dataframe\">\n",
       "  <thead>\n",
       "    <tr style=\"text-align: right;\">\n",
       "      <th></th>\n",
       "      <th>EID</th>\n",
       "      <th>n</th>\n",
       "    </tr>\n",
       "  </thead>\n",
       "  <tbody>\n",
       "    <tr>\n",
       "      <th>48</th>\n",
       "      <td>2-s2.0-33845901783</td>\n",
       "      <td>18</td>\n",
       "    </tr>\n",
       "    <tr>\n",
       "      <th>43</th>\n",
       "      <td>2-s2.0-19944366420</td>\n",
       "      <td>20</td>\n",
       "    </tr>\n",
       "    <tr>\n",
       "      <th>73</th>\n",
       "      <td>2-s2.0-84881063573</td>\n",
       "      <td>21</td>\n",
       "    </tr>\n",
       "    <tr>\n",
       "      <th>63</th>\n",
       "      <td>2-s2.0-77957191872</td>\n",
       "      <td>22</td>\n",
       "    </tr>\n",
       "    <tr>\n",
       "      <th>68</th>\n",
       "      <td>2-s2.0-80053068062</td>\n",
       "      <td>37</td>\n",
       "    </tr>\n",
       "  </tbody>\n",
       "</table>\n",
       "</div>"
      ],
      "text/plain": [
       "                   EID   n\n",
       "48  2-s2.0-33845901783  18\n",
       "43  2-s2.0-19944366420  20\n",
       "73  2-s2.0-84881063573  21\n",
       "63  2-s2.0-77957191872  22\n",
       "68  2-s2.0-80053068062  37"
      ]
     },
     "execution_count": 37,
     "metadata": {},
     "output_type": "execute_result"
    }
   ],
   "source": [
    "# manual labels: \n",
    "\n",
    "num_entries = pd.DataFrame(columns=['EID','n'])\n",
    "\n",
    "for i, eid in enumerate(np.unique(df_train['EID'])):\n",
    "    subset = df_train[df_train['EID']==eid]\n",
    "    num_entries.loc[i] = [eid,len(subset)]\n",
    "\n",
    "num_entries = num_entries.sort_values('n')\n",
    "\n",
    "num_entries[-5:]\n",
    "\n",
    "# 2-s2.0-80053068062 -> 37 rows (longest)\n",
    "# 2-s2.0-19944366420 -> 20 rows (4th longest) "
   ]
  }
 ],
 "metadata": {
  "kernelspec": {
   "display_name": "Python 3 (ipykernel)",
   "language": "python",
   "name": "python3"
  },
  "language_info": {
   "codemirror_mode": {
    "name": "ipython",
    "version": 3
   },
   "file_extension": ".py",
   "mimetype": "text/x-python",
   "name": "python",
   "nbconvert_exporter": "python",
   "pygments_lexer": "ipython3",
   "version": "3.11.4"
  }
 },
 "nbformat": 4,
 "nbformat_minor": 4
}
